{
  "nbformat": 4,
  "nbformat_minor": 0,
  "metadata": {
    "colab": {
      "name": "12_k-Nearest-Neighbors.ipynb",
      "provenance": [],
      "include_colab_link": true
    },
    "kernelspec": {
      "name": "python3",
      "display_name": "Python 3"
    },
    "language_info": {
      "name": "python"
    }
  },
  "cells": [
    {
      "cell_type": "markdown",
      "metadata": {
        "id": "view-in-github",
        "colab_type": "text"
      },
      "source": [
        "<a href=\"https://colab.research.google.com/github/exp-deepthy/my-angular/blob/master/12_k_Nearest_Neighbors.ipynb\" target=\"_parent\"><img src=\"https://colab.research.google.com/assets/colab-badge.svg\" alt=\"Open In Colab\"/></a>"
      ]
    },
    {
      "cell_type": "markdown",
      "source": [
        "# References\n",
        "\n",
        "[Quick Start](https://pytorch.org/tutorials/beginner/basics/intro.html)"
      ],
      "metadata": {
        "id": "3WNx5AWKaukL"
      }
    },
    {
      "cell_type": "markdown",
      "source": [
        "# 0. Prerequisites and Installations"
      ],
      "metadata": {
        "id": "jMhUGKhsaarr"
      }
    },
    {
      "cell_type": "code",
      "source": [
        "!pip install -Uqq numpy scipy matplotlib==3.1.3 ipython scikit-learn pandas pillow mglearn"
      ],
      "metadata": {
        "id": "CVo1XFX6abJU",
        "outputId": "673a9704-73f0-45ea-ebc5-8f2b0ad7f3d7",
        "colab": {
          "base_uri": "https://localhost:8080/"
        }
      },
      "execution_count": 1,
      "outputs": [
        {
          "output_type": "stream",
          "name": "stdout",
          "text": [
            "\u001b[K     |████████████████████████████████| 13.1 MB 8.4 MB/s \n",
            "\u001b[K     |████████████████████████████████| 793 kB 40.1 MB/s \n",
            "\u001b[K     |████████████████████████████████| 3.1 MB 39.7 MB/s \n",
            "\u001b[K     |████████████████████████████████| 540 kB 37.2 MB/s \n",
            "\u001b[K     |████████████████████████████████| 1.6 MB 41.8 MB/s \n",
            "\u001b[?25h  Building wheel for mglearn (setup.py) ... \u001b[?25l\u001b[?25hdone\n",
            "\u001b[31mERROR: pip's dependency resolver does not currently take into account all the packages that are installed. This behaviour is the source of the following dependency conflicts.\n",
            "google-colab 1.0.0 requires ipython~=7.9.0, but you have ipython 7.34.0 which is incompatible.\u001b[0m\n"
          ]
        }
      ]
    },
    {
      "cell_type": "code",
      "source": [
        "import numpy as np\n",
        "import matplotlib.pyplot as plt\n",
        "import pandas as pd\n",
        "import mglearn\n",
        "from IPython.display import display"
      ],
      "metadata": {
        "id": "g12EofeDY1m3"
      },
      "execution_count": 2,
      "outputs": []
    },
    {
      "cell_type": "markdown",
      "source": [
        "# 1 . Get Data"
      ],
      "metadata": {
        "id": "WSyRdsDRZSDv"
      }
    },
    {
      "cell_type": "code",
      "execution_count": 3,
      "metadata": {
        "id": "v3sU0nheY2Zo",
        "outputId": "cbd0e801-ecef-4a58-b997-f1171145bcff",
        "colab": {
          "base_uri": "https://localhost:8080/"
        }
      },
      "outputs": [
        {
          "output_type": "stream",
          "name": "stderr",
          "text": [
            "/usr/local/lib/python3.7/dist-packages/sklearn/utils/deprecation.py:87: FutureWarning: Function make_blobs is deprecated; Please import make_blobs directly from scikit-learn\n",
            "  warnings.warn(msg, category=FutureWarning)\n"
          ]
        }
      ],
      "source": [
        "X, y = mglearn.datasets.make_forge()"
      ]
    },
    {
      "cell_type": "code",
      "source": [
        "# plot dataset\n",
        "mglearn.discrete_scatter(X[:,0], X[:,1], y)\n",
        "plt.legend([\"Class 0\", \"Class 1\"], loc=4)\n",
        "plt.xlabel(\"First feature\")\n",
        "plt.ylabel(\"Second feature\")\n",
        "print(\"X.shape: {}\".format(X.shape))\n"
      ],
      "metadata": {
        "colab": {
          "base_uri": "https://localhost:8080/",
          "height": 296
        },
        "id": "Pq--BIZuZMw1",
        "outputId": "2c2c1230-28e4-4cd9-a12a-e9a4fe8e966f"
      },
      "execution_count": 14,
      "outputs": [
        {
          "output_type": "stream",
          "name": "stdout",
          "text": [
            "X.shape: (26, 2)\n"
          ]
        },
        {
          "output_type": "display_data",
          "data": {
            "text/plain": [
              "<Figure size 432x288 with 1 Axes>"
            ],
            "image/png": "[encoded data removed]"
          },
          "metadata": {
            "needs_background": "light"
          }
        }
      ]
    },
    {
      "cell_type": "code",
      "source": [
        "from sklearn.model_selection import train_test_split\n",
        "X_train, X_test, y_train, y_test = train_test_split(X, y, random_state=0)"
      ],
      "metadata": {
        "id": "ipTTqLbrd3UD"
      },
      "execution_count": 5,
      "outputs": []
    },
    {
      "cell_type": "markdown",
      "source": [
        "# 2. Build or Pick a Pretrained Model"
      ],
      "metadata": {
        "id": "7WLp2N2pZZ_l"
      }
    },
    {
      "cell_type": "code",
      "source": [
        "#k-Nearest Neighbors\n",
        "\n",
        "mglearn.plots.plot_knn_classification(n_neighbors=3)"
      ],
      "metadata": {
        "id": "NQzPpPLEZakF",
        "colab": {
          "base_uri": "https://localhost:8080/",
          "height": 320
        },
        "outputId": "d03a3f6f-f85d-47ff-cb2f-a3601654b687"
      },
      "execution_count": 6,
      "outputs": [
        {
          "output_type": "stream",
          "name": "stderr",
          "text": [
            "/usr/local/lib/python3.7/dist-packages/sklearn/utils/deprecation.py:87: FutureWarning: Function make_blobs is deprecated; Please import make_blobs directly from scikit-learn\n",
            "  warnings.warn(msg, category=FutureWarning)\n"
          ]
        },
        {
          "output_type": "display_data",
          "data": {
            "text/plain": [
              "<Figure size 432x288 with 1 Axes>"
            ],
            "image/png": "[encoded data removed]"
          },
          "metadata": {
            "needs_background": "light"
          }
        }
      ]
    },
    {
      "cell_type": "markdown",
      "source": [
        "## 2.1 Pick a loss function and optimizer"
      ],
      "metadata": {
        "id": "KJKdPjxKZmDS"
      }
    },
    {
      "cell_type": "code",
      "source": [],
      "metadata": {
        "id": "CR9jspNUZlu9"
      },
      "execution_count": 6,
      "outputs": []
    },
    {
      "cell_type": "markdown",
      "source": [
        "## 2.2 Build a training loop"
      ],
      "metadata": {
        "id": "ysa0TtO5Z7qM"
      }
    },
    {
      "cell_type": "code",
      "source": [
        "from sklearn.neighbors import KNeighborsClassifier\n",
        "clf = KNeighborsClassifier(n_neighbors=3)\n",
        "clf.fit(X_train, y_train)"
      ],
      "metadata": {
        "id": "BzcuIhTvZ6R3",
        "colab": {
          "base_uri": "https://localhost:8080/"
        },
        "outputId": "5ffaa05a-ccf5-4a76-9c19-f45e5a60fe74"
      },
      "execution_count": 7,
      "outputs": [
        {
          "output_type": "execute_result",
          "data": {
            "text/plain": [
              "KNeighborsClassifier(n_neighbors=3)"
            ]
          },
          "metadata": {},
          "execution_count": 7
        }
      ]
    },
    {
      "cell_type": "markdown",
      "source": [
        "# 3. Fit the model to data and make prediction"
      ],
      "metadata": {
        "id": "b5MCV7bCZjZd"
      }
    },
    {
      "cell_type": "code",
      "source": [
        "print(\"Test set predictions: pred: {} actual:{}\".format(clf.predict(X_test), y_test))"
      ],
      "metadata": {
        "id": "1RfIc0moZ_2Z",
        "colab": {
          "base_uri": "https://localhost:8080/"
        },
        "outputId": "8ed0e8f8-3927-4ad7-9a33-2f45d7a2dcf0"
      },
      "execution_count": 8,
      "outputs": [
        {
          "output_type": "stream",
          "name": "stdout",
          "text": [
            "Test set predictions: pred: [1 0 1 0 1 0 0] actual:[1 0 1 0 1 1 0]\n"
          ]
        }
      ]
    },
    {
      "cell_type": "code",
      "source": [
        "print(\"Test set predictions: {:.2f}\".format(clf.score(X_test, y_test)))"
      ],
      "metadata": {
        "colab": {
          "base_uri": "https://localhost:8080/"
        },
        "id": "k9bYEIwbfSsF",
        "outputId": "f2f5240e-795f-48fd-e777-4b373fc4a879"
      },
      "execution_count": 9,
      "outputs": [
        {
          "output_type": "stream",
          "name": "stdout",
          "text": [
            "Test set predictions: 0.86\n"
          ]
        }
      ]
    },
    {
      "cell_type": "code",
      "source": [
        "display(mglearn.plots.plot_logistic_regression_graph())"
      ],
      "metadata": {
        "colab": {
          "base_uri": "https://localhost:8080/",
          "height": 369
        },
        "id": "W_02B-UggvO2",
        "outputId": "1d6e7c9f-a738-472b-ecf3-7ec0b749b6bd"
      },
      "execution_count": 10,
      "outputs": [
        {
          "output_type": "display_data",
          "data": {
            "text/plain": [
              "<graphviz.dot.Digraph at 0x7f5734020310>"
            ],
            "image/svg+xml": "<?xml version=\"1.0\" encoding=\"UTF-8\" standalone=\"no\"?>\n<!DOCTYPE svg PUBLIC \"-//W3C//DTD SVG 1.1//EN\"\n \"http://www.w3.org/Graphics/SVG/1.1/DTD/svg11.dtd\">\n<!-- Generated by graphviz version 2.40.1 (20161225.0304)\n -->\n<!-- Title: %3 Pages: 1 -->\n<svg width=\"177pt\" height=\"261pt\"\n viewBox=\"0.00 0.00 177.00 261.00\" xmlns=\"http://www.w3.org/2000/svg\" xmlns:xlink=\"http://www.w3.org/1999/xlink\">\n<g id=\"graph0\" class=\"graph\" transform=\"scale(1 1) rotate(0) translate(4 257)\">\n<title>%3</title>\n<polygon fill=\"#ffffff\" stroke=\"transparent\" points=\"-4,4 -4,-257 173,-257 173,4 -4,4\"/>\n<g id=\"clust1\" class=\"cluster\">\n<title>cluster_0</title>\n<polygon fill=\"none\" stroke=\"#ffffff\" points=\"8,-8 8,-245 60,-245 60,-8 8,-8\"/>\n<text text-anchor=\"middle\" x=\"34\" y=\"-229.8\" font-family=\"Times,serif\" font-size=\"14.00\" fill=\"#000000\">inputs</text>\n</g>\n<g id=\"clust2\" class=\"cluster\">\n<title>cluster_2</title>\n<polygon fill=\"none\" stroke=\"#ffffff\" points=\"108,-89 108,-164 162,-164 162,-89 108,-89\"/>\n<text text-anchor=\"middle\" x=\"135\" y=\"-148.8\" font-family=\"Times,serif\" font-size=\"14.00\" fill=\"#000000\">output</text>\n</g>\n<!-- x[0] -->\n<g id=\"node1\" class=\"node\">\n<title>x[0]</title>\n<ellipse fill=\"none\" stroke=\"#000000\" cx=\"34\" cy=\"-196\" rx=\"18\" ry=\"18\"/>\n<text text-anchor=\"middle\" x=\"34\" y=\"-192.3\" font-family=\"Times,serif\" font-size=\"14.00\" fill=\"#000000\">x[0]</text>\n</g>\n<!-- y -->\n<g id=\"node5\" class=\"node\">\n<title>y</title>\n<ellipse fill=\"none\" stroke=\"#000000\" cx=\"135\" cy=\"-115\" rx=\"18\" ry=\"18\"/>\n<text text-anchor=\"middle\" x=\"135\" y=\"-111.3\" font-family=\"Times,serif\" font-size=\"14.00\" fill=\"#000000\">y</text>\n</g>\n<!-- x[0]&#45;&gt;y -->\n<g id=\"edge1\" class=\"edge\">\n<title>x[0]&#45;&gt;y</title>\n<path fill=\"none\" stroke=\"#000000\" d=\"M48.0436,-184.7373C64.8331,-171.2725 93.1341,-148.5756 112.8732,-132.7453\"/>\n<polygon fill=\"#000000\" stroke=\"#000000\" points=\"115.1386,-135.415 120.7501,-126.4282 110.7591,-129.9542 115.1386,-135.415\"/>\n<text text-anchor=\"middle\" x=\"84\" y=\"-171.8\" font-family=\"Times,serif\" font-size=\"14.00\" fill=\"#000000\">w[0]</text>\n</g>\n<!-- x[1] -->\n<g id=\"node2\" class=\"node\">\n<title>x[1]</title>\n<ellipse fill=\"none\" stroke=\"#000000\" cx=\"34\" cy=\"-142\" rx=\"18\" ry=\"18\"/>\n<text text-anchor=\"middle\" x=\"34\" y=\"-138.3\" font-family=\"Times,serif\" font-size=\"14.00\" fill=\"#000000\">x[1]</text>\n</g>\n<!-- x[1]&#45;&gt;y -->\n<g id=\"edge2\" class=\"edge\">\n<title>x[1]&#45;&gt;y</title>\n<path fill=\"none\" stroke=\"#000000\" d=\"M51.5929,-137.297C67.0894,-133.1543 89.9083,-127.0542 107.7628,-122.2812\"/>\n<polygon fill=\"#000000\" stroke=\"#000000\" points=\"108.8519,-125.6131 117.6087,-119.6491 107.0441,-118.8505 108.8519,-125.6131\"/>\n<text text-anchor=\"middle\" x=\"84\" y=\"-134.8\" font-family=\"Times,serif\" font-size=\"14.00\" fill=\"#000000\">w[1]</text>\n</g>\n<!-- x[2] -->\n<g id=\"node3\" class=\"node\">\n<title>x[2]</title>\n<ellipse fill=\"none\" stroke=\"#000000\" cx=\"34\" cy=\"-88\" rx=\"18\" ry=\"18\"/>\n<text text-anchor=\"middle\" x=\"34\" y=\"-84.3\" font-family=\"Times,serif\" font-size=\"14.00\" fill=\"#000000\">x[2]</text>\n</g>\n<!-- x[2]&#45;&gt;y -->\n<g id=\"edge3\" class=\"edge\">\n<title>x[2]&#45;&gt;y</title>\n<path fill=\"none\" stroke=\"#000000\" d=\"M51.5929,-92.703C67.0894,-96.8457 89.9083,-102.9458 107.7628,-107.7188\"/>\n<polygon fill=\"#000000\" stroke=\"#000000\" points=\"107.0441,-111.1495 117.6087,-110.3509 108.8519,-104.3869 107.0441,-111.1495\"/>\n<text text-anchor=\"middle\" x=\"84\" y=\"-107.8\" font-family=\"Times,serif\" font-size=\"14.00\" fill=\"#000000\">w[2]</text>\n</g>\n<!-- x[3] -->\n<g id=\"node4\" class=\"node\">\n<title>x[3]</title>\n<ellipse fill=\"none\" stroke=\"#000000\" cx=\"34\" cy=\"-34\" rx=\"18\" ry=\"18\"/>\n<text text-anchor=\"middle\" x=\"34\" y=\"-30.3\" font-family=\"Times,serif\" font-size=\"14.00\" fill=\"#000000\">x[3]</text>\n</g>\n<!-- x[3]&#45;&gt;y -->\n<g id=\"edge4\" class=\"edge\">\n<title>x[3]&#45;&gt;y</title>\n<path fill=\"none\" stroke=\"#000000\" d=\"M48.0436,-45.2627C64.8331,-58.7275 93.1341,-81.4244 112.8732,-97.2547\"/>\n<polygon fill=\"#000000\" stroke=\"#000000\" points=\"110.7591,-100.0458 120.7501,-103.5718 115.1386,-94.585 110.7591,-100.0458\"/>\n<text text-anchor=\"middle\" x=\"84\" y=\"-82.8\" font-family=\"Times,serif\" font-size=\"14.00\" fill=\"#000000\">w[3]</text>\n</g>\n</g>\n</svg>\n"
          },
          "metadata": {}
        }
      ]
    },
    {
      "cell_type": "markdown",
      "source": [
        "# 4. Evaluate the model"
      ],
      "metadata": {
        "id": "t5X6ZFTWaA9n"
      }
    },
    {
      "cell_type": "code",
      "source": [],
      "metadata": {
        "id": "u-HHx9xSaHFE"
      },
      "execution_count": 10,
      "outputs": []
    },
    {
      "cell_type": "markdown",
      "source": [
        "# 5. Improve through experimentation"
      ],
      "metadata": {
        "id": "vmZw64NEaHtd"
      }
    },
    {
      "cell_type": "code",
      "source": [],
      "metadata": {
        "id": "yk5bGxMJaOHb"
      },
      "execution_count": 10,
      "outputs": []
    },
    {
      "cell_type": "markdown",
      "source": [
        "# 6. Save and reload your trained model"
      ],
      "metadata": {
        "id": "UfnW-6nsaOr2"
      }
    },
    {
      "cell_type": "code",
      "source": [],
      "metadata": {
        "id": "9ao9l6s5aZV9"
      },
      "execution_count": 10,
      "outputs": []
    }
  ]
}