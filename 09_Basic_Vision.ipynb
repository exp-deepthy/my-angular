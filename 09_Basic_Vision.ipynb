{
  "nbformat": 4,
  "nbformat_minor": 0,
  "metadata": {
    "colab": {
      "name": "09_Basic_Vision.ipynb",
      "provenance": [],
      "collapsed_sections": [],
      "include_colab_link": true
    },
    "kernelspec": {
      "name": "python3",
      "display_name": "Python 3"
    },
    "language_info": {
      "name": "python"
    },
    "accelerator": "GPU",
    "gpuClass": "standard",
    "widgets": {
      "application/vnd.jupyter.widget-state+json": {
        "7605c2cbe7c94322884d4cdf3f802781": {
          "model_module": "@jupyter-widgets/controls",
          "model_name": "HBoxModel",
          "model_module_version": "2.0.0",
          "state": {
            "_dom_classes": [],
            "_model_module": "@jupyter-widgets/controls",
            "_model_module_version": "2.0.0",
            "_model_name": "HBoxModel",
            "_view_count": null,
            "_view_module": "@jupyter-widgets/controls",
            "_view_module_version": "2.0.0",
            "_view_name": "HBoxView",
            "box_style": "",
            "children": [
              "IPY_MODEL_a8c5371f0d9c480d98d269b261bfc69f",
              "IPY_MODEL_54a80fd783734646828a68a1dff0aa08",
              "IPY_MODEL_4888c443d48242f18f14556655524b01"
            ],
            "layout": "IPY_MODEL_e57bc096308c4111a851290bb9eba0b9",
            "tabbable": null,
            "tooltip": null
          }
        },
        "a8c5371f0d9c480d98d269b261bfc69f": {
          "model_module": "@jupyter-widgets/controls",
          "model_name": "HTMLModel",
          "model_module_version": "2.0.0",
          "state": {
            "_dom_classes": [],
            "_model_module": "@jupyter-widgets/controls",
            "_model_module_version": "2.0.0",
            "_model_name": "HTMLModel",
            "_view_count": null,
            "_view_module": "@jupyter-widgets/controls",
            "_view_module_version": "2.0.0",
            "_view_name": "HTMLView",
            "description": "",
            "description_allow_html": false,
            "layout": "IPY_MODEL_cd55ca36622f4e14a9009185880773fb",
            "placeholder": "​",
            "style": "IPY_MODEL_8d1499f3deb146f9854c66f9575ef049",
            "tabbable": null,
            "tooltip": null,
            "value": "100%"
          }
        },
        "54a80fd783734646828a68a1dff0aa08": {
          "model_module": "@jupyter-widgets/controls",
          "model_name": "FloatProgressModel",
          "model_module_version": "2.0.0",
          "state": {
            "_dom_classes": [],
            "_model_module": "@jupyter-widgets/controls",
            "_model_module_version": "2.0.0",
            "_model_name": "FloatProgressModel",
            "_view_count": null,
            "_view_module": "@jupyter-widgets/controls",
            "_view_module_version": "2.0.0",
            "_view_name": "ProgressView",
            "bar_style": "success",
            "description": "",
            "description_allow_html": false,
            "layout": "IPY_MODEL_c425b99090a54913b69192222b7fa08d",
            "max": 26421880,
            "min": 0,
            "orientation": "horizontal",
            "style": "IPY_MODEL_ce43b262328d4121b333c68b84fb7c6e",
            "tabbable": null,
            "tooltip": null,
            "value": 26421880
          }
        },
        "4888c443d48242f18f14556655524b01": {
          "model_module": "@jupyter-widgets/controls",
          "model_name": "HTMLModel",
          "model_module_version": "2.0.0",
          "state": {
            "_dom_classes": [],
            "_model_module": "@jupyter-widgets/controls",
            "_model_module_version": "2.0.0",
            "_model_name": "HTMLModel",
            "_view_count": null,
            "_view_module": "@jupyter-widgets/controls",
            "_view_module_version": "2.0.0",
            "_view_name": "HTMLView",
            "description": "",
            "description_allow_html": false,
            "layout": "IPY_MODEL_f57a7f923cb6421fa1815ba39de5cc1f",
            "placeholder": "​",
            "style": "IPY_MODEL_c926a521ec9342158fdc1e7adfa1253d",
            "tabbable": null,
            "tooltip": null,
            "value": " 26421880/26421880 [00:03&lt;00:00, 13557653.09it/s]"
          }
        },
        "e57bc096308c4111a851290bb9eba0b9": {
          "model_module": "@jupyter-widgets/base",
          "model_name": "LayoutModel",
          "model_module_version": "2.0.0",
          "state": {
            "_model_module": "@jupyter-widgets/base",
            "_model_module_version": "2.0.0",
            "_model_name": "LayoutModel",
            "_view_count": null,
            "_view_module": "@jupyter-widgets/base",
            "_view_module_version": "2.0.0",
            "_view_name": "LayoutView",
            "align_content": null,
            "align_items": null,
            "align_self": null,
            "border_bottom": null,
            "border_left": null,
            "border_right": null,
            "border_top": null,
            "bottom": null,
            "display": null,
            "flex": null,
            "flex_flow": null,
            "grid_area": null,
            "grid_auto_columns": null,
            "grid_auto_flow": null,
            "grid_auto_rows": null,
            "grid_column": null,
            "grid_gap": null,
            "grid_row": null,
            "grid_template_areas": null,
            "grid_template_columns": null,
            "grid_template_rows": null,
            "height": null,
            "justify_content": null,
            "justify_items": null,
            "left": null,
            "margin": null,
            "max_height": null,
            "max_width": null,
            "min_height": null,
            "min_width": null,
            "object_fit": null,
            "object_position": null,
            "order": null,
            "overflow": null,
            "padding": null,
            "right": null,
            "top": null,
            "visibility": null,
            "width": null
          }
        },
        "cd55ca36622f4e14a9009185880773fb": {
          "model_module": "@jupyter-widgets/base",
          "model_name": "LayoutModel",
          "model_module_version": "2.0.0",
          "state": {
            "_model_module": "@jupyter-widgets/base",
            "_model_module_version": "2.0.0",
            "_model_name": "LayoutModel",
            "_view_count": null,
            "_view_module": "@jupyter-widgets/base",
            "_view_module_version": "2.0.0",
            "_view_name": "LayoutView",
            "align_content": null,
            "align_items": null,
            "align_self": null,
            "border_bottom": null,
            "border_left": null,
            "border_right": null,
            "border_top": null,
            "bottom": null,
            "display": null,
            "flex": null,
            "flex_flow": null,
            "grid_area": null,
            "grid_auto_columns": null,
            "grid_auto_flow": null,
            "grid_auto_rows": null,
            "grid_column": null,
            "grid_gap": null,
            "grid_row": null,
            "grid_template_areas": null,
            "grid_template_columns": null,
            "grid_template_rows": null,
            "height": null,
            "justify_content": null,
            "justify_items": null,
            "left": null,
            "margin": null,
            "max_height": null,
            "max_width": null,
            "min_height": null,
            "min_width": null,
            "object_fit": null,
            "object_position": null,
            "order": null,
            "overflow": null,
            "padding": null,
            "right": null,
            "top": null,
            "visibility": null,
            "width": null
          }
        },
        "8d1499f3deb146f9854c66f9575ef049": {
          "model_module": "@jupyter-widgets/controls",
          "model_name": "HTMLStyleModel",
          "model_module_version": "2.0.0",
          "state": {
            "_model_module": "@jupyter-widgets/controls",
            "_model_module_version": "2.0.0",
            "_model_name": "HTMLStyleModel",
            "_view_count": null,
            "_view_module": "@jupyter-widgets/base",
            "_view_module_version": "2.0.0",
            "_view_name": "StyleView",
            "background": null,
            "description_width": "",
            "font_size": null,
            "text_color": null
          }
        },
        "c425b99090a54913b69192222b7fa08d": {
          "model_module": "@jupyter-widgets/base",
          "model_name": "LayoutModel",
          "model_module_version": "2.0.0",
          "state": {
            "_model_module": "@jupyter-widgets/base",
            "_model_module_version": "2.0.0",
            "_model_name": "LayoutModel",
            "_view_count": null,
            "_view_module": "@jupyter-widgets/base",
            "_view_module_version": "2.0.0",
            "_view_name": "LayoutView",
            "align_content": null,
            "align_items": null,
            "align_self": null,
            "border_bottom": null,
            "border_left": null,
            "border_right": null,
            "border_top": null,
            "bottom": null,
            "display": null,
            "flex": null,
            "flex_flow": null,
            "grid_area": null,
            "grid_auto_columns": null,
            "grid_auto_flow": null,
            "grid_auto_rows": null,
            "grid_column": null,
            "grid_gap": null,
            "grid_row": null,
            "grid_template_areas": null,
            "grid_template_columns": null,
            "grid_template_rows": null,
            "height": null,
            "justify_content": null,
            "justify_items": null,
            "left": null,
            "margin": null,
            "max_height": null,
            "max_width": null,
            "min_height": null,
            "min_width": null,
            "object_fit": null,
            "object_position": null,
            "order": null,
            "overflow": null,
            "padding": null,
            "right": null,
            "top": null,
            "visibility": null,
            "width": null
          }
        },
        "ce43b262328d4121b333c68b84fb7c6e": {
          "model_module": "@jupyter-widgets/controls",
          "model_name": "ProgressStyleModel",
          "model_module_version": "2.0.0",
          "state": {
            "_model_module": "@jupyter-widgets/controls",
            "_model_module_version": "2.0.0",
            "_model_name": "ProgressStyleModel",
            "_view_count": null,
            "_view_module": "@jupyter-widgets/base",
            "_view_module_version": "2.0.0",
            "_view_name": "StyleView",
            "bar_color": null,
            "description_width": ""
          }
        },
        "f57a7f923cb6421fa1815ba39de5cc1f": {
          "model_module": "@jupyter-widgets/base",
          "model_name": "LayoutModel",
          "model_module_version": "2.0.0",
          "state": {
            "_model_module": "@jupyter-widgets/base",
            "_model_module_version": "2.0.0",
            "_model_name": "LayoutModel",
            "_view_count": null,
            "_view_module": "@jupyter-widgets/base",
            "_view_module_version": "2.0.0",
            "_view_name": "LayoutView",
            "align_content": null,
            "align_items": null,
            "align_self": null,
            "border_bottom": null,
            "border_left": null,
            "border_right": null,
            "border_top": null,
            "bottom": null,
            "display": null,
            "flex": null,
            "flex_flow": null,
            "grid_area": null,
            "grid_auto_columns": null,
            "grid_auto_flow": null,
            "grid_auto_rows": null,
            "grid_column": null,
            "grid_gap": null,
            "grid_row": null,
            "grid_template_areas": null,
            "grid_template_columns": null,
            "grid_template_rows": null,
            "height": null,
            "justify_content": null,
            "justify_items": null,
            "left": null,
            "margin": null,
            "max_height": null,
            "max_width": null,
            "min_height": null,
            "min_width": null,
            "object_fit": null,
            "object_position": null,
            "order": null,
            "overflow": null,
            "padding": null,
            "right": null,
            "top": null,
            "visibility": null,
            "width": null
          }
        },
        "c926a521ec9342158fdc1e7adfa1253d": {
          "model_module": "@jupyter-widgets/controls",
          "model_name": "HTMLStyleModel",
          "model_module_version": "2.0.0",
          "state": {
            "_model_module": "@jupyter-widgets/controls",
            "_model_module_version": "2.0.0",
            "_model_name": "HTMLStyleModel",
            "_view_count": null,
            "_view_module": "@jupyter-widgets/base",
            "_view_module_version": "2.0.0",
            "_view_name": "StyleView",
            "background": null,
            "description_width": "",
            "font_size": null,
            "text_color": null
          }
        },
        "e8bf14c2797d43a38cdbe5507ad1c58a": {
          "model_module": "@jupyter-widgets/controls",
          "model_name": "HBoxModel",
          "model_module_version": "2.0.0",
          "state": {
            "_dom_classes": [],
            "_model_module": "@jupyter-widgets/controls",
            "_model_module_version": "2.0.0",
            "_model_name": "HBoxModel",
            "_view_count": null,
            "_view_module": "@jupyter-widgets/controls",
            "_view_module_version": "2.0.0",
            "_view_name": "HBoxView",
            "box_style": "",
            "children": [
              "IPY_MODEL_12e7031480424464ba26ded778a9b132",
              "IPY_MODEL_61cb0cb6becd40538641d0def8e06536",
              "IPY_MODEL_212ce6df5d46485eb6fc1e542734367a"
            ],
            "layout": "IPY_MODEL_fe5bdd1b626246fc8d5eb611efc741bb",
            "tabbable": null,
            "tooltip": null
          }
        },
        "12e7031480424464ba26ded778a9b132": {
          "model_module": "@jupyter-widgets/controls",
          "model_name": "HTMLModel",
          "model_module_version": "2.0.0",
          "state": {
            "_dom_classes": [],
            "_model_module": "@jupyter-widgets/controls",
            "_model_module_version": "2.0.0",
            "_model_name": "HTMLModel",
            "_view_count": null,
            "_view_module": "@jupyter-widgets/controls",
            "_view_module_version": "2.0.0",
            "_view_name": "HTMLView",
            "description": "",
            "description_allow_html": false,
            "layout": "IPY_MODEL_191836633aec4f47ab54792a53f79583",
            "placeholder": "​",
            "style": "IPY_MODEL_aa3c79a2e52b4e57b3c42070a2e27ef1",
            "tabbable": null,
            "tooltip": null,
            "value": "100%"
          }
        },
        "61cb0cb6becd40538641d0def8e06536": {
          "model_module": "@jupyter-widgets/controls",
          "model_name": "FloatProgressModel",
          "model_module_version": "2.0.0",
          "state": {
            "_dom_classes": [],
            "_model_module": "@jupyter-widgets/controls",
            "_model_module_version": "2.0.0",
            "_model_name": "FloatProgressModel",
            "_view_count": null,
            "_view_module": "@jupyter-widgets/controls",
            "_view_module_version": "2.0.0",
            "_view_name": "ProgressView",
            "bar_style": "success",
            "description": "",
            "description_allow_html": false,
            "layout": "IPY_MODEL_7461c3a66dd84264ac9a9a58f4c01dc3",
            "max": 29515,
            "min": 0,
            "orientation": "horizontal",
            "style": "IPY_MODEL_f4a1562ea5dd4003a0490f1217f64918",
            "tabbable": null,
            "tooltip": null,
            "value": 29515
          }
        },
        "212ce6df5d46485eb6fc1e542734367a": {
          "model_module": "@jupyter-widgets/controls",
          "model_name": "HTMLModel",
          "model_module_version": "2.0.0",
          "state": {
            "_dom_classes": [],
            "_model_module": "@jupyter-widgets/controls",
            "_model_module_version": "2.0.0",
            "_model_name": "HTMLModel",
            "_view_count": null,
            "_view_module": "@jupyter-widgets/controls",
            "_view_module_version": "2.0.0",
            "_view_name": "HTMLView",
            "description": "",
            "description_allow_html": false,
            "layout": "IPY_MODEL_b2bfc5202cf841398db99c34b9db7a4d",
            "placeholder": "​",
            "style": "IPY_MODEL_00e37bf94fad4a0a95586b2427ed6adf",
            "tabbable": null,
            "tooltip": null,
            "value": " 29515/29515 [00:00&lt;00:00, 143996.60it/s]"
          }
        },
        "fe5bdd1b626246fc8d5eb611efc741bb": {
          "model_module": "@jupyter-widgets/base",
          "model_name": "LayoutModel",
          "model_module_version": "2.0.0",
          "state": {
            "_model_module": "@jupyter-widgets/base",
            "_model_module_version": "2.0.0",
            "_model_name": "LayoutModel",
            "_view_count": null,
            "_view_module": "@jupyter-widgets/base",
            "_view_module_version": "2.0.0",
            "_view_name": "LayoutView",
            "align_content": null,
            "align_items": null,
            "align_self": null,
            "border_bottom": null,
            "border_left": null,
            "border_right": null,
            "border_top": null,
            "bottom": null,
            "display": null,
            "flex": null,
            "flex_flow": null,
            "grid_area": null,
            "grid_auto_columns": null,
            "grid_auto_flow": null,
            "grid_auto_rows": null,
            "grid_column": null,
            "grid_gap": null,
            "grid_row": null,
            "grid_template_areas": null,
            "grid_template_columns": null,
            "grid_template_rows": null,
            "height": null,
            "justify_content": null,
            "justify_items": null,
            "left": null,
            "margin": null,
            "max_height": null,
            "max_width": null,
            "min_height": null,
            "min_width": null,
            "object_fit": null,
            "object_position": null,
            "order": null,
            "overflow": null,
            "padding": null,
            "right": null,
            "top": null,
            "visibility": null,
            "width": null
          }
        },
        "191836633aec4f47ab54792a53f79583": {
          "model_module": "@jupyter-widgets/base",
          "model_name": "LayoutModel",
          "model_module_version": "2.0.0",
          "state": {
            "_model_module": "@jupyter-widgets/base",
            "_model_module_version": "2.0.0",
            "_model_name": "LayoutModel",
            "_view_count": null,
            "_view_module": "@jupyter-widgets/base",
            "_view_module_version": "2.0.0",
            "_view_name": "LayoutView",
            "align_content": null,
            "align_items": null,
            "align_self": null,
            "border_bottom": null,
            "border_left": null,
            "border_right": null,
            "border_top": null,
            "bottom": null,
            "display": null,
            "flex": null,
            "flex_flow": null,
            "grid_area": null,
            "grid_auto_columns": null,
            "grid_auto_flow": null,
            "grid_auto_rows": null,
            "grid_column": null,
            "grid_gap": null,
            "grid_row": null,
            "grid_template_areas": null,
            "grid_template_columns": null,
            "grid_template_rows": null,
            "height": null,
            "justify_content": null,
            "justify_items": null,
            "left": null,
            "margin": null,
            "max_height": null,
            "max_width": null,
            "min_height": null,
            "min_width": null,
            "object_fit": null,
            "object_position": null,
            "order": null,
            "overflow": null,
            "padding": null,
            "right": null,
            "top": null,
            "visibility": null,
            "width": null
          }
        },
        "aa3c79a2e52b4e57b3c42070a2e27ef1": {
          "model_module": "@jupyter-widgets/controls",
          "model_name": "HTMLStyleModel",
          "model_module_version": "2.0.0",
          "state": {
            "_model_module": "@jupyter-widgets/controls",
            "_model_module_version": "2.0.0",
            "_model_name": "HTMLStyleModel",
            "_view_count": null,
            "_view_module": "@jupyter-widgets/base",
            "_view_module_version": "2.0.0",
            "_view_name": "StyleView",
            "background": null,
            "description_width": "",
            "font_size": null,
            "text_color": null
          }
        },
        "7461c3a66dd84264ac9a9a58f4c01dc3": {
          "model_module": "@jupyter-widgets/base",
          "model_name": "LayoutModel",
          "model_module_version": "2.0.0",
          "state": {
            "_model_module": "@jupyter-widgets/base",
            "_model_module_version": "2.0.0",
            "_model_name": "LayoutModel",
            "_view_count": null,
            "_view_module": "@jupyter-widgets/base",
            "_view_module_version": "2.0.0",
            "_view_name": "LayoutView",
            "align_content": null,
            "align_items": null,
            "align_self": null,
            "border_bottom": null,
            "border_left": null,
            "border_right": null,
            "border_top": null,
            "bottom": null,
            "display": null,
            "flex": null,
            "flex_flow": null,
            "grid_area": null,
            "grid_auto_columns": null,
            "grid_auto_flow": null,
            "grid_auto_rows": null,
            "grid_column": null,
            "grid_gap": null,
            "grid_row": null,
            "grid_template_areas": null,
            "grid_template_columns": null,
            "grid_template_rows": null,
            "height": null,
            "justify_content": null,
            "justify_items": null,
            "left": null,
            "margin": null,
            "max_height": null,
            "max_width": null,
            "min_height": null,
            "min_width": null,
            "object_fit": null,
            "object_position": null,
            "order": null,
            "overflow": null,
            "padding": null,
            "right": null,
            "top": null,
            "visibility": null,
            "width": null
          }
        },
        "f4a1562ea5dd4003a0490f1217f64918": {
          "model_module": "@jupyter-widgets/controls",
          "model_name": "ProgressStyleModel",
          "model_module_version": "2.0.0",
          "state": {
            "_model_module": "@jupyter-widgets/controls",
            "_model_module_version": "2.0.0",
            "_model_name": "ProgressStyleModel",
            "_view_count": null,
            "_view_module": "@jupyter-widgets/base",
            "_view_module_version": "2.0.0",
            "_view_name": "StyleView",
            "bar_color": null,
            "description_width": ""
          }
        },
        "b2bfc5202cf841398db99c34b9db7a4d": {
          "model_module": "@jupyter-widgets/base",
          "model_name": "LayoutModel",
          "model_module_version": "2.0.0",
          "state": {
            "_model_module": "@jupyter-widgets/base",
            "_model_module_version": "2.0.0",
            "_model_name": "LayoutModel",
            "_view_count": null,
            "_view_module": "@jupyter-widgets/base",
            "_view_module_version": "2.0.0",
            "_view_name": "LayoutView",
            "align_content": null,
            "align_items": null,
            "align_self": null,
            "border_bottom": null,
            "border_left": null,
            "border_right": null,
            "border_top": null,
            "bottom": null,
            "display": null,
            "flex": null,
            "flex_flow": null,
            "grid_area": null,
            "grid_auto_columns": null,
            "grid_auto_flow": null,
            "grid_auto_rows": null,
            "grid_column": null,
            "grid_gap": null,
            "grid_row": null,
            "grid_template_areas": null,
            "grid_template_columns": null,
            "grid_template_rows": null,
            "height": null,
            "justify_content": null,
            "justify_items": null,
            "left": null,
            "margin": null,
            "max_height": null,
            "max_width": null,
            "min_height": null,
            "min_width": null,
            "object_fit": null,
            "object_position": null,
            "order": null,
            "overflow": null,
            "padding": null,
            "right": null,
            "top": null,
            "visibility": null,
            "width": null
          }
        },
        "00e37bf94fad4a0a95586b2427ed6adf": {
          "model_module": "@jupyter-widgets/controls",
          "model_name": "HTMLStyleModel",
          "model_module_version": "2.0.0",
          "state": {
            "_model_module": "@jupyter-widgets/controls",
            "_model_module_version": "2.0.0",
            "_model_name": "HTMLStyleModel",
            "_view_count": null,
            "_view_module": "@jupyter-widgets/base",
            "_view_module_version": "2.0.0",
            "_view_name": "StyleView",
            "background": null,
            "description_width": "",
            "font_size": null,
            "text_color": null
          }
        },
        "873f1689224b4af7a41a5ad164a7db70": {
          "model_module": "@jupyter-widgets/controls",
          "model_name": "HBoxModel",
          "model_module_version": "2.0.0",
          "state": {
            "_dom_classes": [],
            "_model_module": "@jupyter-widgets/controls",
            "_model_module_version": "2.0.0",
            "_model_name": "HBoxModel",
            "_view_count": null,
            "_view_module": "@jupyter-widgets/controls",
            "_view_module_version": "2.0.0",
            "_view_name": "HBoxView",
            "box_style": "",
            "children": [
              "IPY_MODEL_282f2a728af4488b97dc708268cdc1a9",
              "IPY_MODEL_8dc1168db84b4a80a42a2a02067dfec7",
              "IPY_MODEL_eddde2517e0e4ed2b53a972fb5bf485a"
            ],
            "layout": "IPY_MODEL_4df4278db39447c49681638c74bf6c98",
            "tabbable": null,
            "tooltip": null
          }
        },
        "282f2a728af4488b97dc708268cdc1a9": {
          "model_module": "@jupyter-widgets/controls",
          "model_name": "HTMLModel",
          "model_module_version": "2.0.0",
          "state": {
            "_dom_classes": [],
            "_model_module": "@jupyter-widgets/controls",
            "_model_module_version": "2.0.0",
            "_model_name": "HTMLModel",
            "_view_count": null,
            "_view_module": "@jupyter-widgets/controls",
            "_view_module_version": "2.0.0",
            "_view_name": "HTMLView",
            "description": "",
            "description_allow_html": false,
            "layout": "IPY_MODEL_991cc28beda54453a7768a365ce23214",
            "placeholder": "​",
            "style": "IPY_MODEL_630456d3fcd94480bffb37ae6beb9ea4",
            "tabbable": null,
            "tooltip": null,
            "value": "100%"
          }
        },
        "8dc1168db84b4a80a42a2a02067dfec7": {
          "model_module": "@jupyter-widgets/controls",
          "model_name": "FloatProgressModel",
          "model_module_version": "2.0.0",
          "state": {
            "_dom_classes": [],
            "_model_module": "@jupyter-widgets/controls",
            "_model_module_version": "2.0.0",
            "_model_name": "FloatProgressModel",
            "_view_count": null,
            "_view_module": "@jupyter-widgets/controls",
            "_view_module_version": "2.0.0",
            "_view_name": "ProgressView",
            "bar_style": "success",
            "description": "",
            "description_allow_html": false,
            "layout": "IPY_MODEL_c4550cdc8df541159c48d10043de7a19",
            "max": 4422102,
            "min": 0,
            "orientation": "horizontal",
            "style": "IPY_MODEL_dc022fd2663f4643b0e5b1e5ff4aaf0f",
            "tabbable": null,
            "tooltip": null,
            "value": 4422102
          }
        },
        "eddde2517e0e4ed2b53a972fb5bf485a": {
          "model_module": "@jupyter-widgets/controls",
          "model_name": "HTMLModel",
          "model_module_version": "2.0.0",
          "state": {
            "_dom_classes": [],
            "_model_module": "@jupyter-widgets/controls",
            "_model_module_version": "2.0.0",
            "_model_name": "HTMLModel",
            "_view_count": null,
            "_view_module": "@jupyter-widgets/controls",
            "_view_module_version": "2.0.0",
            "_view_name": "HTMLView",
            "description": "",
            "description_allow_html": false,
            "layout": "IPY_MODEL_f4ae22a7cca1422891cf4775779e4035",
            "placeholder": "​",
            "style": "IPY_MODEL_689e5ede06af4d489212ec67ec7ef800",
            "tabbable": null,
            "tooltip": null,
            "value": " 4422102/4422102 [00:01&lt;00:00, 4477202.37it/s]"
          }
        },
        "4df4278db39447c49681638c74bf6c98": {
          "model_module": "@jupyter-widgets/base",
          "model_name": "LayoutModel",
          "model_module_version": "2.0.0",
          "state": {
            "_model_module": "@jupyter-widgets/base",
            "_model_module_version": "2.0.0",
            "_model_name": "LayoutModel",
            "_view_count": null,
            "_view_module": "@jupyter-widgets/base",
            "_view_module_version": "2.0.0",
            "_view_name": "LayoutView",
            "align_content": null,
            "align_items": null,
            "align_self": null,
            "border_bottom": null,
            "border_left": null,
            "border_right": null,
            "border_top": null,
            "bottom": null,
            "display": null,
            "flex": null,
            "flex_flow": null,
            "grid_area": null,
            "grid_auto_columns": null,
            "grid_auto_flow": null,
            "grid_auto_rows": null,
            "grid_column": null,
            "grid_gap": null,
            "grid_row": null,
            "grid_template_areas": null,
            "grid_template_columns": null,
            "grid_template_rows": null,
            "height": null,
            "justify_content": null,
            "justify_items": null,
            "left": null,
            "margin": null,
            "max_height": null,
            "max_width": null,
            "min_height": null,
            "min_width": null,
            "object_fit": null,
            "object_position": null,
            "order": null,
            "overflow": null,
            "padding": null,
            "right": null,
            "top": null,
            "visibility": null,
            "width": null
          }
        },
        "991cc28beda54453a7768a365ce23214": {
          "model_module": "@jupyter-widgets/base",
          "model_name": "LayoutModel",
          "model_module_version": "2.0.0",
          "state": {
            "_model_module": "@jupyter-widgets/base",
            "_model_module_version": "2.0.0",
            "_model_name": "LayoutModel",
            "_view_count": null,
            "_view_module": "@jupyter-widgets/base",
            "_view_module_version": "2.0.0",
            "_view_name": "LayoutView",
            "align_content": null,
            "align_items": null,
            "align_self": null,
            "border_bottom": null,
            "border_left": null,
            "border_right": null,
            "border_top": null,
            "bottom": null,
            "display": null,
            "flex": null,
            "flex_flow": null,
            "grid_area": null,
            "grid_auto_columns": null,
            "grid_auto_flow": null,
            "grid_auto_rows": null,
            "grid_column": null,
            "grid_gap": null,
            "grid_row": null,
            "grid_template_areas": null,
            "grid_template_columns": null,
            "grid_template_rows": null,
            "height": null,
            "justify_content": null,
            "justify_items": null,
            "left": null,
            "margin": null,
            "max_height": null,
            "max_width": null,
            "min_height": null,
            "min_width": null,
            "object_fit": null,
            "object_position": null,
            "order": null,
            "overflow": null,
            "padding": null,
            "right": null,
            "top": null,
            "visibility": null,
            "width": null
          }
        },
        "630456d3fcd94480bffb37ae6beb9ea4": {
          "model_module": "@jupyter-widgets/controls",
          "model_name": "HTMLStyleModel",
          "model_module_version": "2.0.0",
          "state": {
            "_model_module": "@jupyter-widgets/controls",
            "_model_module_version": "2.0.0",
            "_model_name": "HTMLStyleModel",
            "_view_count": null,
            "_view_module": "@jupyter-widgets/base",
            "_view_module_version": "2.0.0",
            "_view_name": "StyleView",
            "background": null,
            "description_width": "",
            "font_size": null,
            "text_color": null
          }
        },
        "c4550cdc8df541159c48d10043de7a19": {
          "model_module": "@jupyter-widgets/base",
          "model_name": "LayoutModel",
          "model_module_version": "2.0.0",
          "state": {
            "_model_module": "@jupyter-widgets/base",
            "_model_module_version": "2.0.0",
            "_model_name": "LayoutModel",
            "_view_count": null,
            "_view_module": "@jupyter-widgets/base",
            "_view_module_version": "2.0.0",
            "_view_name": "LayoutView",
            "align_content": null,
            "align_items": null,
            "align_self": null,
            "border_bottom": null,
            "border_left": null,
            "border_right": null,
            "border_top": null,
            "bottom": null,
            "display": null,
            "flex": null,
            "flex_flow": null,
            "grid_area": null,
            "grid_auto_columns": null,
            "grid_auto_flow": null,
            "grid_auto_rows": null,
            "grid_column": null,
            "grid_gap": null,
            "grid_row": null,
            "grid_template_areas": null,
            "grid_template_columns": null,
            "grid_template_rows": null,
            "height": null,
            "justify_content": null,
            "justify_items": null,
            "left": null,
            "margin": null,
            "max_height": null,
            "max_width": null,
            "min_height": null,
            "min_width": null,
            "object_fit": null,
            "object_position": null,
            "order": null,
            "overflow": null,
            "padding": null,
            "right": null,
            "top": null,
            "visibility": null,
            "width": null
          }
        },
        "dc022fd2663f4643b0e5b1e5ff4aaf0f": {
          "model_module": "@jupyter-widgets/controls",
          "model_name": "ProgressStyleModel",
          "model_module_version": "2.0.0",
          "state": {
            "_model_module": "@jupyter-widgets/controls",
            "_model_module_version": "2.0.0",
            "_model_name": "ProgressStyleModel",
            "_view_count": null,
            "_view_module": "@jupyter-widgets/base",
            "_view_module_version": "2.0.0",
            "_view_name": "StyleView",
            "bar_color": null,
            "description_width": ""
          }
        },
        "f4ae22a7cca1422891cf4775779e4035": {
          "model_module": "@jupyter-widgets/base",
          "model_name": "LayoutModel",
          "model_module_version": "2.0.0",
          "state": {
            "_model_module": "@jupyter-widgets/base",
            "_model_module_version": "2.0.0",
            "_model_name": "LayoutModel",
            "_view_count": null,
            "_view_module": "@jupyter-widgets/base",
            "_view_module_version": "2.0.0",
            "_view_name": "LayoutView",
            "align_content": null,
            "align_items": null,
            "align_self": null,
            "border_bottom": null,
            "border_left": null,
            "border_right": null,
            "border_top": null,
            "bottom": null,
            "display": null,
            "flex": null,
            "flex_flow": null,
            "grid_area": null,
            "grid_auto_columns": null,
            "grid_auto_flow": null,
            "grid_auto_rows": null,
            "grid_column": null,
            "grid_gap": null,
            "grid_row": null,
            "grid_template_areas": null,
            "grid_template_columns": null,
            "grid_template_rows": null,
            "height": null,
            "justify_content": null,
            "justify_items": null,
            "left": null,
            "margin": null,
            "max_height": null,
            "max_width": null,
            "min_height": null,
            "min_width": null,
            "object_fit": null,
            "object_position": null,
            "order": null,
            "overflow": null,
            "padding": null,
            "right": null,
            "top": null,
            "visibility": null,
            "width": null
          }
        },
        "689e5ede06af4d489212ec67ec7ef800": {
          "model_module": "@jupyter-widgets/controls",
          "model_name": "HTMLStyleModel",
          "model_module_version": "2.0.0",
          "state": {
            "_model_module": "@jupyter-widgets/controls",
            "_model_module_version": "2.0.0",
            "_model_name": "HTMLStyleModel",
            "_view_count": null,
            "_view_module": "@jupyter-widgets/base",
            "_view_module_version": "2.0.0",
            "_view_name": "StyleView",
            "background": null,
            "description_width": "",
            "font_size": null,
            "text_color": null
          }
        },
        "3473717a4c284f8a82dfbcf6e2a7ebba": {
          "model_module": "@jupyter-widgets/controls",
          "model_name": "HBoxModel",
          "model_module_version": "2.0.0",
          "state": {
            "_dom_classes": [],
            "_model_module": "@jupyter-widgets/controls",
            "_model_module_version": "2.0.0",
            "_model_name": "HBoxModel",
            "_view_count": null,
            "_view_module": "@jupyter-widgets/controls",
            "_view_module_version": "2.0.0",
            "_view_name": "HBoxView",
            "box_style": "",
            "children": [
              "IPY_MODEL_e61c1820a8914a8191d5fc1d64bc9510",
              "IPY_MODEL_bae734977f7e4165a28b5f8173100d56",
              "IPY_MODEL_2fef1f50f89d44d2807fdab58e42750b"
            ],
            "layout": "IPY_MODEL_11294e1d11124e36a4ae23d42b7dc888",
            "tabbable": null,
            "tooltip": null
          }
        },
        "e61c1820a8914a8191d5fc1d64bc9510": {
          "model_module": "@jupyter-widgets/controls",
          "model_name": "HTMLModel",
          "model_module_version": "2.0.0",
          "state": {
            "_dom_classes": [],
            "_model_module": "@jupyter-widgets/controls",
            "_model_module_version": "2.0.0",
            "_model_name": "HTMLModel",
            "_view_count": null,
            "_view_module": "@jupyter-widgets/controls",
            "_view_module_version": "2.0.0",
            "_view_name": "HTMLView",
            "description": "",
            "description_allow_html": false,
            "layout": "IPY_MODEL_a0d1bc7561bf43af8fd81ebb461457d8",
            "placeholder": "​",
            "style": "IPY_MODEL_cc69a1bf4a434e1e8a7d0377b18056cf",
            "tabbable": null,
            "tooltip": null,
            "value": "100%"
          }
        },
        "bae734977f7e4165a28b5f8173100d56": {
          "model_module": "@jupyter-widgets/controls",
          "model_name": "FloatProgressModel",
          "model_module_version": "2.0.0",
          "state": {
            "_dom_classes": [],
            "_model_module": "@jupyter-widgets/controls",
            "_model_module_version": "2.0.0",
            "_model_name": "FloatProgressModel",
            "_view_count": null,
            "_view_module": "@jupyter-widgets/controls",
            "_view_module_version": "2.0.0",
            "_view_name": "ProgressView",
            "bar_style": "success",
            "description": "",
            "description_allow_html": false,
            "layout": "IPY_MODEL_e7a5600bcff4417594024f8172dc1de3",
            "max": 5148,
            "min": 0,
            "orientation": "horizontal",
            "style": "IPY_MODEL_2dec2086fa7247d187e0ca1deb452e78",
            "tabbable": null,
            "tooltip": null,
            "value": 5148
          }
        },
        "2fef1f50f89d44d2807fdab58e42750b": {
          "model_module": "@jupyter-widgets/controls",
          "model_name": "HTMLModel",
          "model_module_version": "2.0.0",
          "state": {
            "_dom_classes": [],
            "_model_module": "@jupyter-widgets/controls",
            "_model_module_version": "2.0.0",
            "_model_name": "HTMLModel",
            "_view_count": null,
            "_view_module": "@jupyter-widgets/controls",
            "_view_module_version": "2.0.0",
            "_view_name": "HTMLView",
            "description": "",
            "description_allow_html": false,
            "layout": "IPY_MODEL_427976c0a2db43a5afc25dabcd58b4aa",
            "placeholder": "​",
            "style": "IPY_MODEL_c4704ab6b4964c40ace2347cd1a9f3f8",
            "tabbable": null,
            "tooltip": null,
            "value": " 5148/5148 [00:00&lt;00:00, 166686.82it/s]"
          }
        },
        "11294e1d11124e36a4ae23d42b7dc888": {
          "model_module": "@jupyter-widgets/base",
          "model_name": "LayoutModel",
          "model_module_version": "2.0.0",
          "state": {
            "_model_module": "@jupyter-widgets/base",
            "_model_module_version": "2.0.0",
            "_model_name": "LayoutModel",
            "_view_count": null,
            "_view_module": "@jupyter-widgets/base",
            "_view_module_version": "2.0.0",
            "_view_name": "LayoutView",
            "align_content": null,
            "align_items": null,
            "align_self": null,
            "border_bottom": null,
            "border_left": null,
            "border_right": null,
            "border_top": null,
            "bottom": null,
            "display": null,
            "flex": null,
            "flex_flow": null,
            "grid_area": null,
            "grid_auto_columns": null,
            "grid_auto_flow": null,
            "grid_auto_rows": null,
            "grid_column": null,
            "grid_gap": null,
            "grid_row": null,
            "grid_template_areas": null,
            "grid_template_columns": null,
            "grid_template_rows": null,
            "height": null,
            "justify_content": null,
            "justify_items": null,
            "left": null,
            "margin": null,
            "max_height": null,
            "max_width": null,
            "min_height": null,
            "min_width": null,
            "object_fit": null,
            "object_position": null,
            "order": null,
            "overflow": null,
            "padding": null,
            "right": null,
            "top": null,
            "visibility": null,
            "width": null
          }
        },
        "a0d1bc7561bf43af8fd81ebb461457d8": {
          "model_module": "@jupyter-widgets/base",
          "model_name": "LayoutModel",
          "model_module_version": "2.0.0",
          "state": {
            "_model_module": "@jupyter-widgets/base",
            "_model_module_version": "2.0.0",
            "_model_name": "LayoutModel",
            "_view_count": null,
            "_view_module": "@jupyter-widgets/base",
            "_view_module_version": "2.0.0",
            "_view_name": "LayoutView",
            "align_content": null,
            "align_items": null,
            "align_self": null,
            "border_bottom": null,
            "border_left": null,
            "border_right": null,
            "border_top": null,
            "bottom": null,
            "display": null,
            "flex": null,
            "flex_flow": null,
            "grid_area": null,
            "grid_auto_columns": null,
            "grid_auto_flow": null,
            "grid_auto_rows": null,
            "grid_column": null,
            "grid_gap": null,
            "grid_row": null,
            "grid_template_areas": null,
            "grid_template_columns": null,
            "grid_template_rows": null,
            "height": null,
            "justify_content": null,
            "justify_items": null,
            "left": null,
            "margin": null,
            "max_height": null,
            "max_width": null,
            "min_height": null,
            "min_width": null,
            "object_fit": null,
            "object_position": null,
            "order": null,
            "overflow": null,
            "padding": null,
            "right": null,
            "top": null,
            "visibility": null,
            "width": null
          }
        },
        "cc69a1bf4a434e1e8a7d0377b18056cf": {
          "model_module": "@jupyter-widgets/controls",
          "model_name": "HTMLStyleModel",
          "model_module_version": "2.0.0",
          "state": {
            "_model_module": "@jupyter-widgets/controls",
            "_model_module_version": "2.0.0",
            "_model_name": "HTMLStyleModel",
            "_view_count": null,
            "_view_module": "@jupyter-widgets/base",
            "_view_module_version": "2.0.0",
            "_view_name": "StyleView",
            "background": null,
            "description_width": "",
            "font_size": null,
            "text_color": null
          }
        },
        "e7a5600bcff4417594024f8172dc1de3": {
          "model_module": "@jupyter-widgets/base",
          "model_name": "LayoutModel",
          "model_module_version": "2.0.0",
          "state": {
            "_model_module": "@jupyter-widgets/base",
            "_model_module_version": "2.0.0",
            "_model_name": "LayoutModel",
            "_view_count": null,
            "_view_module": "@jupyter-widgets/base",
            "_view_module_version": "2.0.0",
            "_view_name": "LayoutView",
            "align_content": null,
            "align_items": null,
            "align_self": null,
            "border_bottom": null,
            "border_left": null,
            "border_right": null,
            "border_top": null,
            "bottom": null,
            "display": null,
            "flex": null,
            "flex_flow": null,
            "grid_area": null,
            "grid_auto_columns": null,
            "grid_auto_flow": null,
            "grid_auto_rows": null,
            "grid_column": null,
            "grid_gap": null,
            "grid_row": null,
            "grid_template_areas": null,
            "grid_template_columns": null,
            "grid_template_rows": null,
            "height": null,
            "justify_content": null,
            "justify_items": null,
            "left": null,
            "margin": null,
            "max_height": null,
            "max_width": null,
            "min_height": null,
            "min_width": null,
            "object_fit": null,
            "object_position": null,
            "order": null,
            "overflow": null,
            "padding": null,
            "right": null,
            "top": null,
            "visibility": null,
            "width": null
          }
        },
        "2dec2086fa7247d187e0ca1deb452e78": {
          "model_module": "@jupyter-widgets/controls",
          "model_name": "ProgressStyleModel",
          "model_module_version": "2.0.0",
          "state": {
            "_model_module": "@jupyter-widgets/controls",
            "_model_module_version": "2.0.0",
            "_model_name": "ProgressStyleModel",
            "_view_count": null,
            "_view_module": "@jupyter-widgets/base",
            "_view_module_version": "2.0.0",
            "_view_name": "StyleView",
            "bar_color": null,
            "description_width": ""
          }
        },
        "427976c0a2db43a5afc25dabcd58b4aa": {
          "model_module": "@jupyter-widgets/base",
          "model_name": "LayoutModel",
          "model_module_version": "2.0.0",
          "state": {
            "_model_module": "@jupyter-widgets/base",
            "_model_module_version": "2.0.0",
            "_model_name": "LayoutModel",
            "_view_count": null,
            "_view_module": "@jupyter-widgets/base",
            "_view_module_version": "2.0.0",
            "_view_name": "LayoutView",
            "align_content": null,
            "align_items": null,
            "align_self": null,
            "border_bottom": null,
            "border_left": null,
            "border_right": null,
            "border_top": null,
            "bottom": null,
            "display": null,
            "flex": null,
            "flex_flow": null,
            "grid_area": null,
            "grid_auto_columns": null,
            "grid_auto_flow": null,
            "grid_auto_rows": null,
            "grid_column": null,
            "grid_gap": null,
            "grid_row": null,
            "grid_template_areas": null,
            "grid_template_columns": null,
            "grid_template_rows": null,
            "height": null,
            "justify_content": null,
            "justify_items": null,
            "left": null,
            "margin": null,
            "max_height": null,
            "max_width": null,
            "min_height": null,
            "min_width": null,
            "object_fit": null,
            "object_position": null,
            "order": null,
            "overflow": null,
            "padding": null,
            "right": null,
            "top": null,
            "visibility": null,
            "width": null
          }
        },
        "c4704ab6b4964c40ace2347cd1a9f3f8": {
          "model_module": "@jupyter-widgets/controls",
          "model_name": "HTMLStyleModel",
          "model_module_version": "2.0.0",
          "state": {
            "_model_module": "@jupyter-widgets/controls",
            "_model_module_version": "2.0.0",
            "_model_name": "HTMLStyleModel",
            "_view_count": null,
            "_view_module": "@jupyter-widgets/base",
            "_view_module_version": "2.0.0",
            "_view_name": "StyleView",
            "background": null,
            "description_width": "",
            "font_size": null,
            "text_color": null
          }
        },
        "9f8547c000e44753820c8da54b9bed6d": {
          "model_module": "@jupyter-widgets/controls",
          "model_name": "HBoxModel",
          "model_module_version": "2.0.0",
          "state": {
            "_dom_classes": [],
            "_model_module": "@jupyter-widgets/controls",
            "_model_module_version": "2.0.0",
            "_model_name": "HBoxModel",
            "_view_count": null,
            "_view_module": "@jupyter-widgets/controls",
            "_view_module_version": "2.0.0",
            "_view_name": "HBoxView",
            "box_style": "",
            "children": [
              "IPY_MODEL_6033e520a79349b98018d99b253f6dbb",
              "IPY_MODEL_1a76ae9ae887450d84db9fe86d466400",
              "IPY_MODEL_67e42bf534364c89a3ec16bae2057b21"
            ],
            "layout": "IPY_MODEL_9fa62abe23f64b7b96a7ee5bc9de510d",
            "tabbable": null,
            "tooltip": null
          }
        },
        "6033e520a79349b98018d99b253f6dbb": {
          "model_module": "@jupyter-widgets/controls",
          "model_name": "HTMLModel",
          "model_module_version": "2.0.0",
          "state": {
            "_dom_classes": [],
            "_model_module": "@jupyter-widgets/controls",
            "_model_module_version": "2.0.0",
            "_model_name": "HTMLModel",
            "_view_count": null,
            "_view_module": "@jupyter-widgets/controls",
            "_view_module_version": "2.0.0",
            "_view_name": "HTMLView",
            "description": "",
            "description_allow_html": false,
            "layout": "IPY_MODEL_1bf9ccb1a23a43908840572cbec8da16",
            "placeholder": "​",
            "style": "IPY_MODEL_d4b097be7ded4d9e99b277a32c21a5cf",
            "tabbable": null,
            "tooltip": null,
            "value": "100%"
          }
        },
        "1a76ae9ae887450d84db9fe86d466400": {
          "model_module": "@jupyter-widgets/controls",
          "model_name": "FloatProgressModel",
          "model_module_version": "2.0.0",
          "state": {
            "_dom_classes": [],
            "_model_module": "@jupyter-widgets/controls",
            "_model_module_version": "2.0.0",
            "_model_name": "FloatProgressModel",
            "_view_count": null,
            "_view_module": "@jupyter-widgets/controls",
            "_view_module_version": "2.0.0",
            "_view_name": "ProgressView",
            "bar_style": "success",
            "description": "",
            "description_allow_html": false,
            "layout": "IPY_MODEL_b6c4370c7f2e40d0ae955c94b9b34847",
            "max": 3,
            "min": 0,
            "orientation": "horizontal",
            "style": "IPY_MODEL_2d8a063efdaf477794688de8ca7e43bf",
            "tabbable": null,
            "tooltip": null,
            "value": 3
          }
        },
        "67e42bf534364c89a3ec16bae2057b21": {
          "model_module": "@jupyter-widgets/controls",
          "model_name": "HTMLModel",
          "model_module_version": "2.0.0",
          "state": {
            "_dom_classes": [],
            "_model_module": "@jupyter-widgets/controls",
            "_model_module_version": "2.0.0",
            "_model_name": "HTMLModel",
            "_view_count": null,
            "_view_module": "@jupyter-widgets/controls",
            "_view_module_version": "2.0.0",
            "_view_name": "HTMLView",
            "description": "",
            "description_allow_html": false,
            "layout": "IPY_MODEL_6b835dffe9cd4b84986dc6dc593d4fac",
            "placeholder": "​",
            "style": "IPY_MODEL_45bcd5fd9c414921ab00adc890c2f0f9",
            "tabbable": null,
            "tooltip": null,
            "value": " 3/3 [00:29&lt;00:00,  9.16s/it]"
          }
        },
        "9fa62abe23f64b7b96a7ee5bc9de510d": {
          "model_module": "@jupyter-widgets/base",
          "model_name": "LayoutModel",
          "model_module_version": "2.0.0",
          "state": {
            "_model_module": "@jupyter-widgets/base",
            "_model_module_version": "2.0.0",
            "_model_name": "LayoutModel",
            "_view_count": null,
            "_view_module": "@jupyter-widgets/base",
            "_view_module_version": "2.0.0",
            "_view_name": "LayoutView",
            "align_content": null,
            "align_items": null,
            "align_self": null,
            "border_bottom": null,
            "border_left": null,
            "border_right": null,
            "border_top": null,
            "bottom": null,
            "display": null,
            "flex": null,
            "flex_flow": null,
            "grid_area": null,
            "grid_auto_columns": null,
            "grid_auto_flow": null,
            "grid_auto_rows": null,
            "grid_column": null,
            "grid_gap": null,
            "grid_row": null,
            "grid_template_areas": null,
            "grid_template_columns": null,
            "grid_template_rows": null,
            "height": null,
            "justify_content": null,
            "justify_items": null,
            "left": null,
            "margin": null,
            "max_height": null,
            "max_width": null,
            "min_height": null,
            "min_width": null,
            "object_fit": null,
            "object_position": null,
            "order": null,
            "overflow": null,
            "padding": null,
            "right": null,
            "top": null,
            "visibility": null,
            "width": null
          }
        },
        "1bf9ccb1a23a43908840572cbec8da16": {
          "model_module": "@jupyter-widgets/base",
          "model_name": "LayoutModel",
          "model_module_version": "2.0.0",
          "state": {
            "_model_module": "@jupyter-widgets/base",
            "_model_module_version": "2.0.0",
            "_model_name": "LayoutModel",
            "_view_count": null,
            "_view_module": "@jupyter-widgets/base",
            "_view_module_version": "2.0.0",
            "_view_name": "LayoutView",
            "align_content": null,
            "align_items": null,
            "align_self": null,
            "border_bottom": null,
            "border_left": null,
            "border_right": null,
            "border_top": null,
            "bottom": null,
            "display": null,
            "flex": null,
            "flex_flow": null,
            "grid_area": null,
            "grid_auto_columns": null,
            "grid_auto_flow": null,
            "grid_auto_rows": null,
            "grid_column": null,
            "grid_gap": null,
            "grid_row": null,
            "grid_template_areas": null,
            "grid_template_columns": null,
            "grid_template_rows": null,
            "height": null,
            "justify_content": null,
            "justify_items": null,
            "left": null,
            "margin": null,
            "max_height": null,
            "max_width": null,
            "min_height": null,
            "min_width": null,
            "object_fit": null,
            "object_position": null,
            "order": null,
            "overflow": null,
            "padding": null,
            "right": null,
            "top": null,
            "visibility": null,
            "width": null
          }
        },
        "d4b097be7ded4d9e99b277a32c21a5cf": {
          "model_module": "@jupyter-widgets/controls",
          "model_name": "HTMLStyleModel",
          "model_module_version": "2.0.0",
          "state": {
            "_model_module": "@jupyter-widgets/controls",
            "_model_module_version": "2.0.0",
            "_model_name": "HTMLStyleModel",
            "_view_count": null,
            "_view_module": "@jupyter-widgets/base",
            "_view_module_version": "2.0.0",
            "_view_name": "StyleView",
            "background": null,
            "description_width": "",
            "font_size": null,
            "text_color": null
          }
        },
        "b6c4370c7f2e40d0ae955c94b9b34847": {
          "model_module": "@jupyter-widgets/base",
          "model_name": "LayoutModel",
          "model_module_version": "2.0.0",
          "state": {
            "_model_module": "@jupyter-widgets/base",
            "_model_module_version": "2.0.0",
            "_model_name": "LayoutModel",
            "_view_count": null,
            "_view_module": "@jupyter-widgets/base",
            "_view_module_version": "2.0.0",
            "_view_name": "LayoutView",
            "align_content": null,
            "align_items": null,
            "align_self": null,
            "border_bottom": null,
            "border_left": null,
            "border_right": null,
            "border_top": null,
            "bottom": null,
            "display": null,
            "flex": null,
            "flex_flow": null,
            "grid_area": null,
            "grid_auto_columns": null,
            "grid_auto_flow": null,
            "grid_auto_rows": null,
            "grid_column": null,
            "grid_gap": null,
            "grid_row": null,
            "grid_template_areas": null,
            "grid_template_columns": null,
            "grid_template_rows": null,
            "height": null,
            "justify_content": null,
            "justify_items": null,
            "left": null,
            "margin": null,
            "max_height": null,
            "max_width": null,
            "min_height": null,
            "min_width": null,
            "object_fit": null,
            "object_position": null,
            "order": null,
            "overflow": null,
            "padding": null,
            "right": null,
            "top": null,
            "visibility": null,
            "width": null
          }
        },
        "2d8a063efdaf477794688de8ca7e43bf": {
          "model_module": "@jupyter-widgets/controls",
          "model_name": "ProgressStyleModel",
          "model_module_version": "2.0.0",
          "state": {
            "_model_module": "@jupyter-widgets/controls",
            "_model_module_version": "2.0.0",
            "_model_name": "ProgressStyleModel",
            "_view_count": null,
            "_view_module": "@jupyter-widgets/base",
            "_view_module_version": "2.0.0",
            "_view_name": "StyleView",
            "bar_color": null,
            "description_width": ""
          }
        },
        "6b835dffe9cd4b84986dc6dc593d4fac": {
          "model_module": "@jupyter-widgets/base",
          "model_name": "LayoutModel",
          "model_module_version": "2.0.0",
          "state": {
            "_model_module": "@jupyter-widgets/base",
            "_model_module_version": "2.0.0",
            "_model_name": "LayoutModel",
            "_view_count": null,
            "_view_module": "@jupyter-widgets/base",
            "_view_module_version": "2.0.0",
            "_view_name": "LayoutView",
            "align_content": null,
            "align_items": null,
            "align_self": null,
            "border_bottom": null,
            "border_left": null,
            "border_right": null,
            "border_top": null,
            "bottom": null,
            "display": null,
            "flex": null,
            "flex_flow": null,
            "grid_area": null,
            "grid_auto_columns": null,
            "grid_auto_flow": null,
            "grid_auto_rows": null,
            "grid_column": null,
            "grid_gap": null,
            "grid_row": null,
            "grid_template_areas": null,
            "grid_template_columns": null,
            "grid_template_rows": null,
            "height": null,
            "justify_content": null,
            "justify_items": null,
            "left": null,
            "margin": null,
            "max_height": null,
            "max_width": null,
            "min_height": null,
            "min_width": null,
            "object_fit": null,
            "object_position": null,
            "order": null,
            "overflow": null,
            "padding": null,
            "right": null,
            "top": null,
            "visibility": null,
            "width": null
          }
        },
        "45bcd5fd9c414921ab00adc890c2f0f9": {
          "model_module": "@jupyter-widgets/controls",
          "model_name": "HTMLStyleModel",
          "model_module_version": "2.0.0",
          "state": {
            "_model_module": "@jupyter-widgets/controls",
            "_model_module_version": "2.0.0",
            "_model_name": "HTMLStyleModel",
            "_view_count": null,
            "_view_module": "@jupyter-widgets/base",
            "_view_module_version": "2.0.0",
            "_view_name": "StyleView",
            "background": null,
            "description_width": "",
            "font_size": null,
            "text_color": null
          }
        }
      }
    }
  },
  "cells": [
    {
      "cell_type": "markdown",
      "metadata": {
        "id": "view-in-github",
        "colab_type": "text"
      },
      "source": [
        "<a href=\"https://colab.research.google.com/github/exp-deepthy/my-angular/blob/master/09_Basic_Vision.ipynb\" target=\"_parent\"><img src=\"https://colab.research.google.com/assets/colab-badge.svg\" alt=\"Open In Colab\"/></a>"
      ]
    },
    {
      "cell_type": "markdown",
      "source": [
        "# References\n",
        "\n",
        "[Quick Start](https://pytorch.org/tutorials/beginner/basics/intro.html)\n",
        "\n",
        "[Optimization/Improving the model](https://pytorch.org/tutorials/beginner/basics/optimization_tutorial.html)"
      ],
      "metadata": {
        "id": "3WNx5AWKaukL"
      }
    },
    {
      "cell_type": "markdown",
      "source": [
        "# 0. Prerequisites and Installations"
      ],
      "metadata": {
        "id": "jMhUGKhsaarr"
      }
    },
    {
      "cell_type": "code",
      "source": [
        "import torch\n",
        "from torch import nn\n",
        "from torch.utils.data import DataLoader\n",
        "from torchvision import datasets\n",
        "from torchvision.transforms import ToTensor, Lambda"
      ],
      "metadata": {
        "id": "CVo1XFX6abJU"
      },
      "execution_count": null,
      "outputs": []
    },
    {
      "cell_type": "markdown",
      "source": [
        "# 1 . Get Data"
      ],
      "metadata": {
        "id": "WSyRdsDRZSDv"
      }
    },
    {
      "cell_type": "code",
      "execution_count": null,
      "metadata": {
        "colab": {
          "base_uri": "https://localhost:8080/",
          "height": 303,
          "referenced_widgets": [
            "7605c2cbe7c94322884d4cdf3f802781",
            "a8c5371f0d9c480d98d269b261bfc69f",
            "54a80fd783734646828a68a1dff0aa08",
            "4888c443d48242f18f14556655524b01",
            "e57bc096308c4111a851290bb9eba0b9",
            "cd55ca36622f4e14a9009185880773fb",
            "8d1499f3deb146f9854c66f9575ef049",
            "c425b99090a54913b69192222b7fa08d",
            "ce43b262328d4121b333c68b84fb7c6e",
            "f57a7f923cb6421fa1815ba39de5cc1f",
            "c926a521ec9342158fdc1e7adfa1253d",
            "e8bf14c2797d43a38cdbe5507ad1c58a",
            "12e7031480424464ba26ded778a9b132",
            "61cb0cb6becd40538641d0def8e06536",
            "212ce6df5d46485eb6fc1e542734367a",
            "fe5bdd1b626246fc8d5eb611efc741bb",
            "191836633aec4f47ab54792a53f79583",
            "aa3c79a2e52b4e57b3c42070a2e27ef1",
            "7461c3a66dd84264ac9a9a58f4c01dc3",
            "f4a1562ea5dd4003a0490f1217f64918",
            "b2bfc5202cf841398db99c34b9db7a4d",
            "00e37bf94fad4a0a95586b2427ed6adf",
            "873f1689224b4af7a41a5ad164a7db70",
            "282f2a728af4488b97dc708268cdc1a9",
            "8dc1168db84b4a80a42a2a02067dfec7",
            "eddde2517e0e4ed2b53a972fb5bf485a",
            "4df4278db39447c49681638c74bf6c98",
            "991cc28beda54453a7768a365ce23214",
            "630456d3fcd94480bffb37ae6beb9ea4",
            "c4550cdc8df541159c48d10043de7a19",
            "dc022fd2663f4643b0e5b1e5ff4aaf0f",
            "f4ae22a7cca1422891cf4775779e4035",
            "689e5ede06af4d489212ec67ec7ef800",
            "3473717a4c284f8a82dfbcf6e2a7ebba",
            "e61c1820a8914a8191d5fc1d64bc9510",
            "bae734977f7e4165a28b5f8173100d56",
            "2fef1f50f89d44d2807fdab58e42750b",
            "11294e1d11124e36a4ae23d42b7dc888",
            "a0d1bc7561bf43af8fd81ebb461457d8",
            "cc69a1bf4a434e1e8a7d0377b18056cf",
            "e7a5600bcff4417594024f8172dc1de3",
            "2dec2086fa7247d187e0ca1deb452e78",
            "427976c0a2db43a5afc25dabcd58b4aa",
            "c4704ab6b4964c40ace2347cd1a9f3f8"
          ]
        },
        "id": "v3sU0nheY2Zo",
        "outputId": "0e88e412-7452-4ccf-9b4a-6aaa114ea5c5"
      },
      "outputs": [
        {
          "output_type": "stream",
          "name": "stdout",
          "text": [
            "Downloading http://fashion-mnist.s3-website.eu-central-1.amazonaws.com/train-images-idx3-ubyte.gz\n",
            "Downloading http://fashion-mnist.s3-website.eu-central-1.amazonaws.com/train-images-idx3-ubyte.gz to data/FashionMNIST/raw/train-images-idx3-ubyte.gz\n"
          ]
        },
        {
          "output_type": "display_data",
          "data": {
            "text/plain": [
              "  0%|          | 0/26421880 [00:00<?, ?it/s]"
            ],
            "application/vnd.jupyter.widget-view+json": {
              "version_major": 2,
              "version_minor": 0,
              "model_id": "7605c2cbe7c94322884d4cdf3f802781"
            },
            "application/json": {
              "n": 0,
              "total": 26421880,
              "elapsed": 0.06156325340270996,
              "ncols": null,
              "nrows": null,
              "prefix": "",
              "ascii": false,
              "unit": "it",
              "unit_scale": false,
              "rate": null,
              "bar_format": null,
              "postfix": null,
              "unit_divisor": 1000,
              "initial": 0,
              "colour": null
            }
          },
          "metadata": {}
        },
        {
          "output_type": "stream",
          "name": "stdout",
          "text": [
            "Extracting data/FashionMNIST/raw/train-images-idx3-ubyte.gz to data/FashionMNIST/raw\n",
            "\n",
            "Downloading http://fashion-mnist.s3-website.eu-central-1.amazonaws.com/train-labels-idx1-ubyte.gz\n",
            "Downloading http://fashion-mnist.s3-website.eu-central-1.amazonaws.com/train-labels-idx1-ubyte.gz to data/FashionMNIST/raw/train-labels-idx1-ubyte.gz\n"
          ]
        },
        {
          "output_type": "display_data",
          "data": {
            "text/plain": [
              "  0%|          | 0/29515 [00:00<?, ?it/s]"
            ],
            "application/vnd.jupyter.widget-view+json": {
              "version_major": 2,
              "version_minor": 0,
              "model_id": "e8bf14c2797d43a38cdbe5507ad1c58a"
            },
            "application/json": {
              "n": 0,
              "total": 29515,
              "elapsed": 0.02028179168701172,
              "ncols": null,
              "nrows": null,
              "prefix": "",
              "ascii": false,
              "unit": "it",
              "unit_scale": false,
              "rate": null,
              "bar_format": null,
              "postfix": null,
              "unit_divisor": 1000,
              "initial": 0,
              "colour": null
            }
          },
          "metadata": {}
        },
        {
          "output_type": "stream",
          "name": "stdout",
          "text": [
            "Extracting data/FashionMNIST/raw/train-labels-idx1-ubyte.gz to data/FashionMNIST/raw\n",
            "\n",
            "Downloading http://fashion-mnist.s3-website.eu-central-1.amazonaws.com/t10k-images-idx3-ubyte.gz\n",
            "Downloading http://fashion-mnist.s3-website.eu-central-1.amazonaws.com/t10k-images-idx3-ubyte.gz to data/FashionMNIST/raw/t10k-images-idx3-ubyte.gz\n"
          ]
        },
        {
          "output_type": "display_data",
          "data": {
            "text/plain": [
              "  0%|          | 0/4422102 [00:00<?, ?it/s]"
            ],
            "application/vnd.jupyter.widget-view+json": {
              "version_major": 2,
              "version_minor": 0,
              "model_id": "873f1689224b4af7a41a5ad164a7db70"
            },
            "application/json": {
              "n": 0,
              "total": 4422102,
              "elapsed": 0.019140958786010742,
              "ncols": null,
              "nrows": null,
              "prefix": "",
              "ascii": false,
              "unit": "it",
              "unit_scale": false,
              "rate": null,
              "bar_format": null,
              "postfix": null,
              "unit_divisor": 1000,
              "initial": 0,
              "colour": null
            }
          },
          "metadata": {}
        },
        {
          "output_type": "stream",
          "name": "stdout",
          "text": [
            "Extracting data/FashionMNIST/raw/t10k-images-idx3-ubyte.gz to data/FashionMNIST/raw\n",
            "\n",
            "Downloading http://fashion-mnist.s3-website.eu-central-1.amazonaws.com/t10k-labels-idx1-ubyte.gz\n",
            "Downloading http://fashion-mnist.s3-website.eu-central-1.amazonaws.com/t10k-labels-idx1-ubyte.gz to data/FashionMNIST/raw/t10k-labels-idx1-ubyte.gz\n"
          ]
        },
        {
          "output_type": "display_data",
          "data": {
            "text/plain": [
              "  0%|          | 0/5148 [00:00<?, ?it/s]"
            ],
            "application/vnd.jupyter.widget-view+json": {
              "version_major": 2,
              "version_minor": 0,
              "model_id": "3473717a4c284f8a82dfbcf6e2a7ebba"
            },
            "application/json": {
              "n": 0,
              "total": 5148,
              "elapsed": 0.018900632858276367,
              "ncols": null,
              "nrows": null,
              "prefix": "",
              "ascii": false,
              "unit": "it",
              "unit_scale": false,
              "rate": null,
              "bar_format": null,
              "postfix": null,
              "unit_divisor": 1000,
              "initial": 0,
              "colour": null
            }
          },
          "metadata": {}
        },
        {
          "output_type": "stream",
          "name": "stdout",
          "text": [
            "Extracting data/FashionMNIST/raw/t10k-labels-idx1-ubyte.gz to data/FashionMNIST/raw\n",
            "\n"
          ]
        }
      ],
      "source": [
        "training_data = datasets.FashionMNIST(\n",
        "    root=\"data\",\n",
        "    train=True,\n",
        "    download=True,\n",
        "    transform=ToTensor()\n",
        ")\n",
        "\n",
        "test_data = datasets.FashionMNIST(\n",
        "    root=\"data\",\n",
        "    train=False,\n",
        "    download=True,\n",
        "    transform=ToTensor()\n",
        ")\n",
        "\n",
        "train_dataloader = DataLoader(training_data, batch_size=64)\n",
        "test_dataloader = DataLoader(test_data, batch_size=64)\n"
      ]
    },
    {
      "cell_type": "markdown",
      "source": [
        "## 1.1 Exploratory Data Analysis"
      ],
      "metadata": {
        "id": "GmVKJUz0eJgd"
      }
    },
    {
      "cell_type": "code",
      "source": [
        "# See classes\n",
        "class_names = training_data.classes\n",
        "class_names"
      ],
      "metadata": {
        "colab": {
          "base_uri": "https://localhost:8080/"
        },
        "id": "r4aVt3RMdpBm",
        "outputId": "1d316fb3-6520-492e-fb98-5ee36c657e03"
      },
      "execution_count": null,
      "outputs": [
        {
          "output_type": "execute_result",
          "data": {
            "text/plain": [
              "['T-shirt/top',\n",
              " 'Trouser',\n",
              " 'Pullover',\n",
              " 'Dress',\n",
              " 'Coat',\n",
              " 'Sandal',\n",
              " 'Shirt',\n",
              " 'Sneaker',\n",
              " 'Bag',\n",
              " 'Ankle boot']"
            ]
          },
          "metadata": {},
          "execution_count": 3
        }
      ]
    },
    {
      "cell_type": "code",
      "source": [
        "import matplotlib.pyplot as plt\n",
        "image, label = training_data[0]\n",
        "print(f\"Image shape: {image.shape}\")\n",
        "plt.imshow(image.squeeze()) # image shape is [1, 28, 28] (colour channels, height, width)\n",
        "plt.title(label);"
      ],
      "metadata": {
        "colab": {
          "base_uri": "https://localhost:8080/",
          "height": 299
        },
        "id": "JzGPWGhYdPqG",
        "outputId": "269e9ef2-07b0-4dff-c731-fa6504406996"
      },
      "execution_count": null,
      "outputs": [
        {
          "output_type": "stream",
          "name": "stdout",
          "text": [
            "Image shape: torch.Size([1, 28, 28])\n"
          ]
        },
        {
          "output_type": "display_data",
          "data": {
            "text/plain": [
              "<Figure size 432x288 with 1 Axes>"
            ],
            "image/png": "[encoded data removed]"
          },
          "metadata": {
            "needs_background": "light"
          }
        }
      ]
    },
    {
      "cell_type": "code",
      "source": [
        "plt.imshow(image.squeeze(), cmap=\"gray\")\n",
        "plt.title(class_names[label]);"
      ],
      "metadata": {
        "colab": {
          "base_uri": "https://localhost:8080/",
          "height": 281
        },
        "id": "3xaeyGlwdgi2",
        "outputId": "575defa3-e4d0-401d-e05f-d2a2a019f050"
      },
      "execution_count": null,
      "outputs": [
        {
          "output_type": "display_data",
          "data": {
            "text/plain": [
              "<Figure size 432x288 with 1 Axes>"
            ],
            "image/png": "[encoded data removed]"
          },
          "metadata": {
            "needs_background": "light"
          }
        }
      ]
    },
    {
      "cell_type": "code",
      "source": [
        "# Plot more images\n",
        "torch.manual_seed(42)\n",
        "fig = plt.figure(figsize=(9, 9))\n",
        "rows, cols = 4, 4\n",
        "for i in range(1, rows * cols + 1):\n",
        "    random_idx = torch.randint(0, len(training_data), size=[1]).item()\n",
        "    img, label = training_data[random_idx]\n",
        "    fig.add_subplot(rows, cols, i)\n",
        "    plt.imshow(img.squeeze(), cmap=\"gray\")\n",
        "    plt.title(class_names[label])\n",
        "    plt.axis(False);"
      ],
      "metadata": {
        "colab": {
          "base_uri": "https://localhost:8080/",
          "height": 536
        },
        "id": "K5S9AD3kdvSL",
        "outputId": "3994ba0b-a070-4f1d-c848-4f23c6cb0210"
      },
      "execution_count": null,
      "outputs": [
        {
          "output_type": "display_data",
          "data": {
            "text/plain": [
              "<Figure size 648x648 with 16 Axes>"
            ],
            "image/png": "[encoded data removed]"
          },
          "metadata": {
            "needs_background": "light"
          }
        }
      ]
    },
    {
      "cell_type": "markdown",
      "source": [
        "![image.png](data:image/png;base64,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)"
      ],
      "metadata": {
        "id": "fnTisZy0d7M2"
      }
    },
    {
      "cell_type": "markdown",
      "source": [
        "# 2. Build or Pick a Pretrained Model"
      ],
      "metadata": {
        "id": "7WLp2N2pZZ_l"
      }
    },
    {
      "cell_type": "code",
      "source": [
        "class NeuralNetwork(nn.Module):\n",
        "    def __init__(self):\n",
        "        super(NeuralNetwork, self).__init__()\n",
        "        self.flatten = nn.Flatten()\n",
        "        self.linear_relu_stack = nn.Sequential(\n",
        "            nn.Linear(28*28, 512),\n",
        "            nn.ReLU(),\n",
        "            nn.Linear(512, 512),\n",
        "            nn.ReLU(),\n",
        "            nn.Linear(512, 10),\n",
        "        )\n",
        "\n",
        "    def forward(self, x):\n",
        "        x = self.flatten(x)\n",
        "        logits = self.linear_relu_stack(x)\n",
        "        return logits\n",
        "\n",
        "model = NeuralNetwork()"
      ],
      "metadata": {
        "id": "NQzPpPLEZakF"
      },
      "execution_count": null,
      "outputs": []
    },
    {
      "cell_type": "markdown",
      "source": [
        "## 2.1 Pick a loss function and optimizer"
      ],
      "metadata": {
        "id": "KJKdPjxKZmDS"
      }
    },
    {
      "cell_type": "code",
      "source": [
        "learning_rate = 1e-3\n",
        "batch_size = 64\n",
        "epochs = 5"
      ],
      "metadata": {
        "id": "CR9jspNUZlu9"
      },
      "execution_count": null,
      "outputs": []
    },
    {
      "cell_type": "code",
      "source": [
        "# Initialize the loss function\n",
        "loss_fn = nn.CrossEntropyLoss()"
      ],
      "metadata": {
        "id": "rWfZ7e7JboXQ"
      },
      "execution_count": null,
      "outputs": []
    },
    {
      "cell_type": "code",
      "source": [
        "optimizer = torch.optim.SGD(model.parameters(), lr=learning_rate)"
      ],
      "metadata": {
        "id": "hLyjvgCQbrxx"
      },
      "execution_count": null,
      "outputs": []
    },
    {
      "cell_type": "markdown",
      "source": [
        "## 2.2 Build a training loop"
      ],
      "metadata": {
        "id": "ysa0TtO5Z7qM"
      }
    },
    {
      "cell_type": "code",
      "source": [
        "def train_loop(dataloader, model, loss_fn, optimizer):\n",
        "    size = len(dataloader.dataset)\n",
        "    for batch, (X, y) in enumerate(dataloader):\n",
        "        # Compute prediction and loss\n",
        "        pred = model(X)\n",
        "        loss = loss_fn(pred, y)\n",
        "\n",
        "        # Backpropagation\n",
        "        optimizer.zero_grad()\n",
        "        loss.backward()\n",
        "        optimizer.step()\n",
        "\n",
        "        if batch % 100 == 0:\n",
        "            loss, current = loss.item(), batch * len(X)\n",
        "            print(f\"loss: {loss:>7f}  [{current:>5d}/{size:>5d}]\")\n",
        "\n",
        "\n",
        "def test_loop(dataloader, model, loss_fn):\n",
        "    size = len(dataloader.dataset)\n",
        "    num_batches = len(dataloader)\n",
        "    test_loss, correct = 0, 0\n",
        "\n",
        "    with torch.no_grad():\n",
        "        for X, y in dataloader:\n",
        "            pred = model(X)\n",
        "            test_loss += loss_fn(pred, y).item()\n",
        "            correct += (pred.argmax(1) == y).type(torch.float).sum().item()\n",
        "\n",
        "    test_loss /= num_batches\n",
        "    correct /= size\n",
        "    print(f\"Test Error: \\n Accuracy: {(100*correct):>0.1f}%, Avg loss: {test_loss:>8f} \\n\")"
      ],
      "metadata": {
        "id": "BzcuIhTvZ6R3"
      },
      "execution_count": null,
      "outputs": []
    },
    {
      "cell_type": "code",
      "source": [
        "# loss_fn = nn.CrossEntropyLoss()\n",
        "# optimizer = torch.optim.SGD(model.parameters(), lr=learning_rate)\n",
        "\n",
        "epochs = 10\n",
        "for t in range(epochs):\n",
        "    print(f\"Epoch {t+1}\\n-------------------------------\")\n",
        "    train_loop(train_dataloader, model, loss_fn, optimizer)\n",
        "    test_loop(test_dataloader, model, loss_fn)\n",
        "print(\"Done!\")"
      ],
      "metadata": {
        "colab": {
          "base_uri": "https://localhost:8080/"
        },
        "id": "NFozGnkTcINa",
        "outputId": "9e2aefd8-7ca7-4782-8d3f-b633e4ef2008"
      },
      "execution_count": null,
      "outputs": [
        {
          "output_type": "stream",
          "name": "stdout",
          "text": [
            "Epoch 1\n",
            "-------------------------------\n",
            "loss: 2.307126  [    0/60000]\n",
            "loss: 2.289966  [ 6400/60000]\n",
            "loss: 2.279646  [12800/60000]\n",
            "loss: 2.271650  [19200/60000]\n",
            "loss: 2.247622  [25600/60000]\n",
            "loss: 2.231684  [32000/60000]\n",
            "loss: 2.222829  [38400/60000]\n",
            "loss: 2.203660  [44800/60000]\n",
            "loss: 2.200961  [51200/60000]\n",
            "loss: 2.159932  [57600/60000]\n",
            "Test Error: \n",
            " Accuracy: 49.7%, Avg loss: 2.164821 \n",
            "\n",
            "Epoch 2\n",
            "-------------------------------\n",
            "loss: 2.180045  [    0/60000]\n",
            "loss: 2.167824  [ 6400/60000]\n",
            "loss: 2.121571  [12800/60000]\n",
            "loss: 2.129511  [19200/60000]\n",
            "loss: 2.073468  [25600/60000]\n",
            "loss: 2.025332  [32000/60000]\n",
            "loss: 2.032101  [38400/60000]\n",
            "loss: 1.976312  [44800/60000]\n",
            "loss: 1.977686  [51200/60000]\n",
            "loss: 1.885531  [57600/60000]\n",
            "Test Error: \n",
            " Accuracy: 53.4%, Avg loss: 1.905454 \n",
            "\n",
            "Epoch 3\n",
            "-------------------------------\n",
            "loss: 1.944212  [    0/60000]\n",
            "loss: 1.915235  [ 6400/60000]\n",
            "loss: 1.811217  [12800/60000]\n",
            "loss: 1.834261  [19200/60000]\n",
            "loss: 1.721850  [25600/60000]\n",
            "loss: 1.679847  [32000/60000]\n",
            "loss: 1.673996  [38400/60000]\n",
            "loss: 1.602439  [44800/60000]\n",
            "loss: 1.613549  [51200/60000]\n",
            "loss: 1.493839  [57600/60000]\n",
            "Test Error: \n",
            " Accuracy: 59.1%, Avg loss: 1.531165 \n",
            "\n",
            "Epoch 4\n",
            "-------------------------------\n",
            "loss: 1.601679  [    0/60000]\n",
            "loss: 1.566059  [ 6400/60000]\n",
            "loss: 1.426938  [12800/60000]\n",
            "loss: 1.483119  [19200/60000]\n",
            "loss: 1.364355  [25600/60000]\n",
            "loss: 1.365731  [32000/60000]\n",
            "loss: 1.357312  [38400/60000]\n",
            "loss: 1.303982  [44800/60000]\n",
            "loss: 1.327308  [51200/60000]\n",
            "loss: 1.225886  [57600/60000]\n",
            "Test Error: \n",
            " Accuracy: 63.2%, Avg loss: 1.258651 \n",
            "\n",
            "Epoch 5\n",
            "-------------------------------\n",
            "loss: 1.339399  [    0/60000]\n",
            "loss: 1.320152  [ 6400/60000]\n",
            "loss: 1.162676  [12800/60000]\n",
            "loss: 1.256632  [19200/60000]\n",
            "loss: 1.134179  [25600/60000]\n",
            "loss: 1.162899  [32000/60000]\n",
            "loss: 1.166517  [38400/60000]\n",
            "loss: 1.120429  [44800/60000]\n",
            "loss: 1.151091  [51200/60000]\n",
            "loss: 1.069717  [57600/60000]\n",
            "Test Error: \n",
            " Accuracy: 64.6%, Avg loss: 1.092644 \n",
            "\n",
            "Epoch 6\n",
            "-------------------------------\n",
            "loss: 1.166991  [    0/60000]\n",
            "loss: 1.168763  [ 6400/60000]\n",
            "loss: 0.994459  [12800/60000]\n",
            "loss: 1.118750  [19200/60000]\n",
            "loss: 0.995001  [25600/60000]\n",
            "loss: 1.029572  [32000/60000]\n",
            "loss: 1.049659  [38400/60000]\n",
            "loss: 1.005097  [44800/60000]\n",
            "loss: 1.037092  [51200/60000]\n",
            "loss: 0.972476  [57600/60000]\n",
            "Test Error: \n",
            " Accuracy: 66.0%, Avg loss: 0.986480 \n",
            "\n",
            "Epoch 7\n",
            "-------------------------------\n",
            "loss: 1.047659  [    0/60000]\n",
            "loss: 1.071233  [ 6400/60000]\n",
            "loss: 0.880594  [12800/60000]\n",
            "loss: 1.027783  [19200/60000]\n",
            "loss: 0.908188  [25600/60000]\n",
            "loss: 0.936651  [32000/60000]\n",
            "loss: 0.973172  [38400/60000]\n",
            "loss: 0.930188  [44800/60000]\n",
            "loss: 0.957965  [51200/60000]\n",
            "loss: 0.906823  [57600/60000]\n",
            "Test Error: \n",
            " Accuracy: 67.3%, Avg loss: 0.914071 \n",
            "\n",
            "Epoch 8\n",
            "-------------------------------\n",
            "loss: 0.960055  [    0/60000]\n",
            "loss: 1.003624  [ 6400/60000]\n",
            "loss: 0.799073  [12800/60000]\n",
            "loss: 0.963431  [19200/60000]\n",
            "loss: 0.850794  [25600/60000]\n",
            "loss: 0.868365  [32000/60000]\n",
            "loss: 0.918783  [38400/60000]\n",
            "loss: 0.879427  [44800/60000]\n",
            "loss: 0.900830  [51200/60000]\n",
            "loss: 0.859041  [57600/60000]\n",
            "Test Error: \n",
            " Accuracy: 68.6%, Avg loss: 0.861726 \n",
            "\n",
            "Epoch 9\n",
            "-------------------------------\n",
            "loss: 0.892555  [    0/60000]\n",
            "loss: 0.952749  [ 6400/60000]\n",
            "loss: 0.737692  [12800/60000]\n",
            "loss: 0.915367  [19200/60000]\n",
            "loss: 0.809829  [25600/60000]\n",
            "loss: 0.816520  [32000/60000]\n",
            "loss: 0.876923  [38400/60000]\n",
            "loss: 0.843456  [44800/60000]\n",
            "loss: 0.857953  [51200/60000]\n",
            "loss: 0.821843  [57600/60000]\n",
            "Test Error: \n",
            " Accuracy: 69.7%, Avg loss: 0.821894 \n",
            "\n",
            "Epoch 10\n",
            "-------------------------------\n",
            "loss: 0.838312  [    0/60000]\n",
            "loss: 0.911855  [ 6400/60000]\n",
            "loss: 0.689487  [12800/60000]\n",
            "loss: 0.878028  [19200/60000]\n",
            "loss: 0.778738  [25600/60000]\n",
            "loss: 0.776092  [32000/60000]\n",
            "loss: 0.842770  [38400/60000]\n",
            "loss: 0.816459  [44800/60000]\n",
            "loss: 0.824377  [51200/60000]\n",
            "loss: 0.791354  [57600/60000]\n",
            "Test Error: \n",
            " Accuracy: 71.0%, Avg loss: 0.790147 \n",
            "\n",
            "Done!\n"
          ]
        }
      ]
    },
    {
      "cell_type": "markdown",
      "source": [
        "# 3. Fit the model to data and make prediction"
      ],
      "metadata": {
        "id": "b5MCV7bCZjZd"
      }
    },
    {
      "cell_type": "code",
      "source": [
        "def make_predictions(model: torch.nn.Module, data: list, device: torch.device = 'cpu'):\n",
        "    pred_probs = []\n",
        "    model.eval()\n",
        "    with torch.inference_mode():\n",
        "        for sample in data:\n",
        "            # Prepare sample\n",
        "            sample = torch.unsqueeze(sample, dim=0).to(device) # Add an extra dimension and send sample to device\n",
        "\n",
        "            # Forward pass (model outputs raw logit)\n",
        "            pred_logit = model(sample)\n",
        "\n",
        "            # Get prediction probability (logit -> prediction probability)\n",
        "            pred_prob = torch.softmax(pred_logit.squeeze(), dim=0)\n",
        "\n",
        "            # Get pred_prob off GPU for further calculations\n",
        "            pred_probs.append(pred_prob.cpu())\n",
        "            \n",
        "    # Stack the pred_probs to turn list into a tensor\n",
        "    return torch.stack(pred_probs)"
      ],
      "metadata": {
        "id": "1RfIc0moZ_2Z"
      },
      "execution_count": null,
      "outputs": []
    },
    {
      "cell_type": "code",
      "source": [
        "import random\n",
        "random.seed(42)\n",
        "test_samples = []\n",
        "test_labels = []\n",
        "for sample, label in random.sample(list(test_data), k=9):\n",
        "    test_samples.append(sample)\n",
        "    test_labels.append(label)\n",
        "\n",
        "# View the first test sample shape and label\n",
        "print(f\"Test sample image shape: {test_samples[0].shape}\\nTest sample label: {test_labels[0]} ({class_names[test_labels[0]]})\")"
      ],
      "metadata": {
        "colab": {
          "base_uri": "https://localhost:8080/"
        },
        "id": "jbibZUTTe-ky",
        "outputId": "430f4e02-1da7-4f33-ce56-b2686242de75"
      },
      "execution_count": null,
      "outputs": [
        {
          "output_type": "stream",
          "name": "stdout",
          "text": [
            "Test sample image shape: torch.Size([1, 28, 28])\n",
            "Test sample label: 5 (Sandal)\n"
          ]
        }
      ]
    },
    {
      "cell_type": "code",
      "source": [
        "# Make predictions on test samples with model 2\n",
        "pred_probs= make_predictions(model=model, \n",
        "                             data=test_samples)\n",
        "\n",
        "# View first two prediction probabilities list\n",
        "pred_probs[:2]"
      ],
      "metadata": {
        "colab": {
          "base_uri": "https://localhost:8080/"
        },
        "id": "XnDXHEZhfQcW",
        "outputId": "5f9c5faf-d709-4c3a-a194-1e2ec376695d"
      },
      "execution_count": null,
      "outputs": [
        {
          "output_type": "execute_result",
          "data": {
            "text/plain": [
              "tensor([[9.9132e-06, 1.3855e-06, 7.1418e-05, 4.6210e-05, 1.2569e-04, 4.0839e-01,\n",
              "         8.6995e-05, 2.5141e-01, 4.0542e-02, 2.9932e-01],\n",
              "        [8.1209e-02, 2.4092e-01, 1.4905e-02, 5.5438e-01, 6.4410e-02, 4.1264e-04,\n",
              "         4.1651e-02, 1.1768e-04, 1.6627e-03, 3.3167e-04]])"
            ]
          },
          "metadata": {},
          "execution_count": 15
        }
      ]
    },
    {
      "cell_type": "code",
      "source": [
        "# Turn the prediction probabilities into prediction labels by taking the argmax()\n",
        "pred_classes = pred_probs.argmax(dim=1)\n",
        "pred_classes"
      ],
      "metadata": {
        "colab": {
          "base_uri": "https://localhost:8080/"
        },
        "id": "zUJKVBK4ftPz",
        "outputId": "d7410be1-5962-40e7-cc88-28409c4eca37"
      },
      "execution_count": null,
      "outputs": [
        {
          "output_type": "execute_result",
          "data": {
            "text/plain": [
              "tensor([5, 3, 7, 4, 3, 0, 4, 7, 1])"
            ]
          },
          "metadata": {},
          "execution_count": 16
        }
      ]
    },
    {
      "cell_type": "markdown",
      "source": [
        "# 4. Evaluate the model"
      ],
      "metadata": {
        "id": "t5X6ZFTWaA9n"
      }
    },
    {
      "cell_type": "code",
      "source": [
        "# Plot predictions\n",
        "plt.figure(figsize=(9, 9))\n",
        "nrows = 3\n",
        "ncols = 3\n",
        "for i, sample in enumerate(test_samples):\n",
        "  # Create a subplot\n",
        "  plt.subplot(nrows, ncols, i+1)\n",
        "\n",
        "  # Plot the target image\n",
        "  plt.imshow(sample.squeeze(), cmap=\"gray\")\n",
        "\n",
        "  # Find the prediction label (in text form, e.g. \"Sandal\")\n",
        "  pred_label = class_names[pred_classes[i]]\n",
        "\n",
        "  # Get the truth label (in text form, e.g. \"T-shirt\")\n",
        "  truth_label = class_names[test_labels[i]] \n",
        "\n",
        "  # Create the title text of the plot\n",
        "  title_text = f\"Pred: {pred_label} | Truth: {truth_label}\"\n",
        "  \n",
        "  # Check for equality and change title colour accordingly\n",
        "  if pred_label == truth_label:\n",
        "      plt.title(title_text, fontsize=10, c=\"g\") # green text if correct\n",
        "  else:\n",
        "      plt.title(title_text, fontsize=10, c=\"r\") # red text if wrong\n",
        "  plt.axis(False);"
      ],
      "metadata": {
        "colab": {
          "base_uri": "https://localhost:8080/",
          "height": 534
        },
        "id": "GqboEYmsfvkr",
        "outputId": "cc062044-e927-439c-853d-db3cead44a2d"
      },
      "execution_count": null,
      "outputs": [
        {
          "output_type": "display_data",
          "data": {
            "text/plain": [
              "<Figure size 648x648 with 9 Axes>"
            ],
            "image/png": "[encoded data removed]"
          },
          "metadata": {
            "needs_background": "light"
          }
        }
      ]
    },
    {
      "cell_type": "markdown",
      "source": [
        "# 5. Improve through experimentation"
      ],
      "metadata": {
        "id": "vmZw64NEaHtd"
      }
    },
    {
      "cell_type": "code",
      "source": [
        "# Create a convolutional neural network \n",
        "class FashionMNISTModelV2(nn.Module):\n",
        "    \"\"\"\n",
        "    Model architecture copying TinyVGG from: \n",
        "    https://poloclub.github.io/cnn-explainer/\n",
        "    \"\"\"\n",
        "    def __init__(self, input_shape: int, hidden_units: int, output_shape: int):\n",
        "        super().__init__()\n",
        "        self.block_1 = nn.Sequential(\n",
        "            nn.Conv2d(in_channels=input_shape, \n",
        "                      out_channels=hidden_units, \n",
        "                      kernel_size=3, # how big is the square that's going over the image?\n",
        "                      stride=1, # default\n",
        "                      padding=1),# options = \"valid\" (no padding) or \"same\" (output has same shape as input) or int for specific number \n",
        "            nn.ReLU(),\n",
        "            nn.Conv2d(in_channels=hidden_units, \n",
        "                      out_channels=hidden_units,\n",
        "                      kernel_size=3,\n",
        "                      stride=1,\n",
        "                      padding=1),\n",
        "            nn.ReLU(),\n",
        "            nn.MaxPool2d(kernel_size=2,\n",
        "                         stride=2) # default stride value is same as kernel_size\n",
        "        )\n",
        "        self.block_2 = nn.Sequential(\n",
        "            nn.Conv2d(hidden_units, hidden_units, 3, padding=1),\n",
        "            nn.ReLU(),\n",
        "            nn.Conv2d(hidden_units, hidden_units, 3, padding=1),\n",
        "            nn.ReLU(),\n",
        "            nn.MaxPool2d(2)\n",
        "        )\n",
        "        self.classifier = nn.Sequential(\n",
        "            nn.Flatten(),\n",
        "            # Where did this in_features shape come from? \n",
        "            # It's because each layer of our network compresses and changes the shape of our inputs data.\n",
        "            nn.Linear(in_features=hidden_units*7*7, \n",
        "                      out_features=output_shape)\n",
        "        )\n",
        "    \n",
        "    def forward(self, x: torch.Tensor):\n",
        "        x = self.block_1(x)\n",
        "        # print(x.shape)\n",
        "        x = self.block_2(x)\n",
        "        # print(x.shape)\n",
        "        x = self.classifier(x)\n",
        "        # print(x.shape)\n",
        "        return x\n",
        "\n",
        "torch.manual_seed(42)\n",
        "model_2 = FashionMNISTModelV2(input_shape=1, \n",
        "    hidden_units=10, \n",
        "    output_shape=len(class_names)).to('cuda')\n",
        "model_2"
      ],
      "metadata": {
        "id": "yk5bGxMJaOHb",
        "colab": {
          "base_uri": "https://localhost:8080/"
        },
        "outputId": "2776a33b-332b-48cd-d854-a897629e2cb0"
      },
      "execution_count": null,
      "outputs": [
        {
          "output_type": "execute_result",
          "data": {
            "text/plain": [
              "FashionMNISTModelV2(\n",
              "  (block_1): Sequential(\n",
              "    (0): Conv2d(1, 10, kernel_size=(3, 3), stride=(1, 1), padding=(1, 1))\n",
              "    (1): ReLU()\n",
              "    (2): Conv2d(10, 10, kernel_size=(3, 3), stride=(1, 1), padding=(1, 1))\n",
              "    (3): ReLU()\n",
              "    (4): MaxPool2d(kernel_size=2, stride=2, padding=0, dilation=1, ceil_mode=False)\n",
              "  )\n",
              "  (block_2): Sequential(\n",
              "    (0): Conv2d(10, 10, kernel_size=(3, 3), stride=(1, 1), padding=(1, 1))\n",
              "    (1): ReLU()\n",
              "    (2): Conv2d(10, 10, kernel_size=(3, 3), stride=(1, 1), padding=(1, 1))\n",
              "    (3): ReLU()\n",
              "    (4): MaxPool2d(kernel_size=2, stride=2, padding=0, dilation=1, ceil_mode=False)\n",
              "  )\n",
              "  (classifier): Sequential(\n",
              "    (0): Flatten(start_dim=1, end_dim=-1)\n",
              "    (1): Linear(in_features=490, out_features=10, bias=True)\n",
              "  )\n",
              ")"
            ]
          },
          "metadata": {},
          "execution_count": 18
        }
      ]
    },
    {
      "cell_type": "code",
      "source": [
        "# Setup device agnostic code\n",
        "import torch\n",
        "device = \"cuda\" if torch.cuda.is_available() else \"cpu\"\n",
        "device"
      ],
      "metadata": {
        "colab": {
          "base_uri": "https://localhost:8080/",
          "height": 35
        },
        "id": "bMo3uP3PNCCg",
        "outputId": "6c3863a0-eb3d-4e8d-e222-101cc5f97072"
      },
      "execution_count": null,
      "outputs": [
        {
          "output_type": "execute_result",
          "data": {
            "text/plain": [
              "'cuda'"
            ],
            "application/vnd.google.colaboratory.intrinsic+json": {
              "type": "string"
            }
          },
          "metadata": {},
          "execution_count": 22
        }
      ]
    },
    {
      "cell_type": "code",
      "source": [
        "# Calculate accuracy (a classification metric)\n",
        "def accuracy_fn(y_true, y_pred):\n",
        "    \"\"\"Calculates accuracy between truth labels and predictions.\n",
        "\n",
        "    Args:\n",
        "        y_true (torch.Tensor): Truth labels for predictions.\n",
        "        y_pred (torch.Tensor): Predictions to be compared to predictions.\n",
        "\n",
        "    Returns:\n",
        "        [torch.float]: Accuracy value between y_true and y_pred, e.g. 78.45\n",
        "    \"\"\"\n",
        "    correct = torch.eq(y_true, y_pred).sum().item()\n",
        "    acc = (correct / len(y_pred)) * 100\n",
        "    return acc\n",
        "\n",
        "\n",
        "def print_train_time(start, end, device=None):\n",
        "    \"\"\"Prints difference between start and end time.\n",
        "\n",
        "    Args:\n",
        "        start (float): Start time of computation (preferred in timeit format). \n",
        "        end (float): End time of computation.\n",
        "        device ([type], optional): Device that compute is running on. Defaults to None.\n",
        "\n",
        "    Returns:\n",
        "        float: time between start and end in seconds (higher is longer).\n",
        "    \"\"\"\n",
        "    total_time = end - start\n",
        "    print(f\"\\nTrain time on {device}: {total_time:.3f} seconds\")\n",
        "    return total_time"
      ],
      "metadata": {
        "id": "ARpTzzMONdiK"
      },
      "execution_count": null,
      "outputs": []
    },
    {
      "cell_type": "code",
      "source": [
        "# Setup loss and optimizer\n",
        "loss_fn = nn.CrossEntropyLoss()\n",
        "optimizer = torch.optim.SGD(params=model_2.parameters(), \n",
        "                             lr=0.1)"
      ],
      "metadata": {
        "id": "0SJcQ_HwLNOy"
      },
      "execution_count": null,
      "outputs": []
    },
    {
      "cell_type": "code",
      "source": [
        "def train_step(model: torch.nn.Module,\n",
        "               data_loader: torch.utils.data.DataLoader,\n",
        "               loss_fn: torch.nn.Module,\n",
        "               optimizer: torch.optim.Optimizer,\n",
        "               accuracy_fn,\n",
        "               device: torch.device = device):\n",
        "    train_loss, train_acc = 0, 0\n",
        "    for batch, (X, y) in enumerate(data_loader):\n",
        "        # Send data to GPU\n",
        "        X, y = X.to(device), y.to(device)\n",
        "\n",
        "        # 1. Forward pass\n",
        "        y_pred = model(X)\n",
        "\n",
        "        # 2. Calculate loss\n",
        "        loss = loss_fn(y_pred, y)\n",
        "        train_loss += loss\n",
        "        train_acc += accuracy_fn(y_true=y,\n",
        "                                 y_pred=y_pred.argmax(dim=1)) # Go from logits -> pred labels\n",
        "\n",
        "        # 3. Optimizer zero grad\n",
        "        optimizer.zero_grad()\n",
        "\n",
        "        # 4. Loss backward\n",
        "        loss.backward()\n",
        "\n",
        "        # 5. Optimizer step\n",
        "        optimizer.step()\n",
        "\n",
        "    # Calculate loss and accuracy per epoch and print out what's happening\n",
        "    train_loss /= len(data_loader)\n",
        "    train_acc /= len(data_loader)\n",
        "    print(f\"Train loss: {train_loss:.5f} | Train accuracy: {train_acc:.2f}%\")\n",
        "\n",
        "def test_step(data_loader: torch.utils.data.DataLoader,\n",
        "              model: torch.nn.Module,\n",
        "              loss_fn: torch.nn.Module,\n",
        "              accuracy_fn,\n",
        "              device: torch.device = device):\n",
        "    test_loss, test_acc = 0, 0\n",
        "    model.eval() # put model in eval mode\n",
        "    # Turn on inference context manager\n",
        "    with torch.inference_mode(): \n",
        "        for X, y in data_loader:\n",
        "            # Send data to GPU\n",
        "            X, y = X.to(device), y.to(device)\n",
        "            \n",
        "            # 1. Forward pass\n",
        "            test_pred = model(X)\n",
        "            \n",
        "            # 2. Calculate loss and accuracy\n",
        "            test_loss += loss_fn(test_pred, y)\n",
        "            test_acc += accuracy_fn(y_true=y,\n",
        "                y_pred=test_pred.argmax(dim=1) # Go from logits -> pred labels\n",
        "            )\n",
        "        \n",
        "        # Adjust metrics and print out\n",
        "        test_loss /= len(data_loader)\n",
        "        test_acc /= len(data_loader)\n",
        "        print(f\"Test loss: {test_loss:.5f} | Test accuracy: {test_acc:.2f}%\\n\")"
      ],
      "metadata": {
        "id": "0l3HLxBdLxCg"
      },
      "execution_count": null,
      "outputs": []
    },
    {
      "cell_type": "code",
      "source": [
        "# Import tqdm for progress bar\n",
        "from tqdm.auto import tqdm\n",
        "\n",
        "torch.manual_seed(42)\n",
        "\n",
        "# Measure time\n",
        "from timeit import default_timer as timer\n",
        "train_time_start_model_2 = timer()\n",
        "\n",
        "# Train and test model \n",
        "epochs = 3\n",
        "for epoch in tqdm(range(epochs)):\n",
        "    print(f\"Epoch: {epoch}\\n---------\")\n",
        "    train_step(data_loader=train_dataloader, \n",
        "        model=model_2, \n",
        "        loss_fn=loss_fn,\n",
        "        optimizer=optimizer,\n",
        "        accuracy_fn=accuracy_fn,\n",
        "        device=device\n",
        "    )\n",
        "    test_step(data_loader=test_dataloader,\n",
        "        model=model_2,\n",
        "        loss_fn=loss_fn,\n",
        "        accuracy_fn=accuracy_fn,\n",
        "        device=device\n",
        "    )\n",
        "\n",
        "train_time_end_model_2 = timer()\n",
        "total_train_time_model_2 = print_train_time(start=train_time_start_model_2,\n",
        "                                           end=train_time_end_model_2,\n",
        "                                           device=device)"
      ],
      "metadata": {
        "colab": {
          "base_uri": "https://localhost:8080/",
          "height": 321,
          "referenced_widgets": [
            "9f8547c000e44753820c8da54b9bed6d",
            "6033e520a79349b98018d99b253f6dbb",
            "1a76ae9ae887450d84db9fe86d466400",
            "67e42bf534364c89a3ec16bae2057b21",
            "9fa62abe23f64b7b96a7ee5bc9de510d",
            "1bf9ccb1a23a43908840572cbec8da16",
            "d4b097be7ded4d9e99b277a32c21a5cf",
            "b6c4370c7f2e40d0ae955c94b9b34847",
            "2d8a063efdaf477794688de8ca7e43bf",
            "6b835dffe9cd4b84986dc6dc593d4fac",
            "45bcd5fd9c414921ab00adc890c2f0f9"
          ]
        },
        "id": "a1JDZegMJzsN",
        "outputId": "d8a0e449-e9eb-460e-9780-646a7c034356"
      },
      "execution_count": null,
      "outputs": [
        {
          "output_type": "display_data",
          "data": {
            "text/plain": [
              "  0%|          | 0/3 [00:00<?, ?it/s]"
            ],
            "application/vnd.jupyter.widget-view+json": {
              "version_major": 2,
              "version_minor": 0,
              "model_id": "9f8547c000e44753820c8da54b9bed6d"
            },
            "application/json": {
              "n": 0,
              "total": 3,
              "elapsed": 0.018670082092285156,
              "ncols": null,
              "nrows": null,
              "prefix": "",
              "ascii": false,
              "unit": "it",
              "unit_scale": false,
              "rate": null,
              "bar_format": null,
              "postfix": null,
              "unit_divisor": 1000,
              "initial": 0,
              "colour": null
            }
          },
          "metadata": {}
        },
        {
          "output_type": "stream",
          "name": "stdout",
          "text": [
            "Epoch: 0\n",
            "---------\n",
            "Train loss: 0.70681 | Train accuracy: 74.49%\n",
            "Test loss: 0.53805 | Test accuracy: 80.03%\n",
            "\n",
            "Epoch: 1\n",
            "---------\n",
            "Train loss: 0.40501 | Train accuracy: 85.37%\n",
            "Test loss: 0.40935 | Test accuracy: 84.85%\n",
            "\n",
            "Epoch: 2\n",
            "---------\n",
            "Train loss: 0.34951 | Train accuracy: 87.49%\n",
            "Test loss: 0.37336 | Test accuracy: 86.26%\n",
            "\n",
            "\n",
            "Train time on cuda: 29.652 seconds\n"
          ]
        }
      ]
    },
    {
      "cell_type": "markdown",
      "source": [
        "# 6. Save and reload your trained model"
      ],
      "metadata": {
        "id": "UfnW-6nsaOr2"
      }
    },
    {
      "cell_type": "code",
      "source": [
        ""
      ],
      "metadata": {
        "id": "9ao9l6s5aZV9"
      },
      "execution_count": null,
      "outputs": []
    }
  ]
}